{
 "cells": [
  {
   "cell_type": "code",
   "execution_count": 1,
   "metadata": {
    "collapsed": true
   },
   "outputs": [],
   "source": [
    "import numpy as np\n",
    "import os\n",
    "import sys\n"
   ]
  },
  {
   "cell_type": "code",
   "execution_count": 2,
   "metadata": {
    "collapsed": true
   },
   "outputs": [],
   "source": [
    "sys.path.append('/home/caffe-user/caffe/python/')\n"
   ]
  },
  {
   "cell_type": "code",
   "execution_count": 3,
   "metadata": {
    "collapsed": true
   },
   "outputs": [],
   "source": [
    "import caffe\n"
   ]
  },
  {
   "cell_type": "code",
   "execution_count": 4,
   "metadata": {
    "collapsed": true
   },
   "outputs": [],
   "source": [
    "caffe.set_mode_gpu()\n"
   ]
  },
  {
   "cell_type": "code",
   "execution_count": 5,
   "metadata": {
    "collapsed": true
   },
   "outputs": [],
   "source": [
    "import matplotlib.image as img\n",
    "import matplotlib.pyplot as plt\n",
    "%matplotlib inline\n"
   ]
  },
  {
   "cell_type": "code",
   "execution_count": 53,
   "metadata": {
    "collapsed": true
   },
   "outputs": [],
   "source": [
    "from scipy import signal"
   ]
  },
  {
   "cell_type": "code",
   "execution_count": 7,
   "metadata": {
    "collapsed": false
   },
   "outputs": [],
   "source": [
    "net = caffe.Net('/downloads/kenglish/models/placesCNN/places205CNN_deploy.prototxt', '/downloads/kenglish/models/placesCNN/places205CNN_iter_300000.caffemodel', caffe.TEST)\n"
   ]
  },
  {
   "cell_type": "code",
   "execution_count": 8,
   "metadata": {
    "collapsed": true
   },
   "outputs": [],
   "source": [
    "transformer = caffe.io.Transformer({'data': net.blobs['data'].data.shape})\n"
   ]
  },
  {
   "cell_type": "code",
   "execution_count": 10,
   "metadata": {
    "collapsed": true
   },
   "outputs": [],
   "source": [
    "# This is from our current code which uses ILSVRC_2012 image set for training\n",
    "# The PlacesNet image set is different\n",
    "trans_model = np.load('/home/caffe-user/caffe/python/caffe/imagenet/ilsvrc_2012_mean.npy')\n"
   ]
  },
  {
   "cell_type": "code",
   "execution_count": 12,
   "metadata": {
    "collapsed": false
   },
   "outputs": [
    {
     "data": {
      "text/plain": [
       "array([ 104.00698793,  116.66876762,  122.67891434])"
      ]
     },
     "execution_count": 12,
     "metadata": {},
     "output_type": "execute_result"
    }
   ],
   "source": [
    "# the mean of any dataset composed of natural images should be close to [104, 117, 123].\n",
    "# My guess for greyscale is 115 ... \n",
    "trans_model.mean(1).mean(1)\n",
    "\n"
   ]
  },
  {
   "cell_type": "code",
   "execution_count": 17,
   "metadata": {
    "collapsed": true
   },
   "outputs": [],
   "source": [
    "transformer.set_transpose('data', (2, 0, 1))\n",
    "# Values from BlobProto notebook from places205CNN_mean.binaryproto\n",
    "transformer.set_mean('data', np.array([ 104.92972906,  113.25471069,  116.2096921 ]))\n",
    "transformer.set_raw_scale('data', 255)\n",
    "transformer.set_channel_swap('data', (2, 1, 0))\n"
   ]
  },
  {
   "cell_type": "code",
   "execution_count": 18,
   "metadata": {
    "collapsed": true
   },
   "outputs": [],
   "source": [
    "def myTestFiles():\n",
    "    file_list = []\n",
    "    with open('/downloads/kenglish/data/protest_concert/files.lst', 'r') as f:\n",
    "        for line in f:\n",
    "            fpath = line.rstrip()\n",
    "            file_list.append(fpath)\n",
    "    return file_list"
   ]
  },
  {
   "cell_type": "code",
   "execution_count": 19,
   "metadata": {
    "collapsed": false
   },
   "outputs": [
    {
     "name": "stdout",
     "output_type": "stream",
     "text": [
      "/downloads/kenglish/data/protest_concert/day_concert/images (21).jpg\n",
      "/downloads/kenglish/data/protest_concert/day_concert/Verizon-Wireless-Amphitheater-Irvine.jpg\n",
      "/downloads/kenglish/data/protest_concert/day_concert/images.jpg\n",
      "/downloads/kenglish/data/protest_concert/day_concert/images (2).jpg\n",
      "/downloads/kenglish/data/protest_concert/day_concert/images (22).jpg\n",
      "/downloads/kenglish/data/protest_concert/day_concert/images (15).jpg\n",
      "/downloads/kenglish/data/protest_concert/day_concert/NMDConcert_Capitol_3.jpg\n",
      "/downloads/kenglish/data/protest_concert/day_concert/149314031.jpg\n",
      "/downloads/kenglish/data/protest_concert/day_concert/2011_may-day_13038584088229.png\n",
      "/downloads/kenglish/data/protest_concert/day_concert/danielle-bradbery-set-to-headline-memorial-day-concert-11.jpg\n",
      "/downloads/kenglish/data/protest_concert/day_concert/5728bde51c94c.image.jpg\n",
      "/downloads/kenglish/data/protest_concert/day_concert/images (18).jpg\n",
      "/downloads/kenglish/data/protest_concert/day_concert/o.jpg\n",
      "/downloads/kenglish/data/protest_concert/day_concert/2012GMX_Day3_Outdoor_Major_Stage_Concert.jpg\n",
      "/downloads/kenglish/data/protest_concert/day_concert/danielle-bradbery-set-to-headline-memorial-day-concert-08.jpg\n",
      "/downloads/kenglish/data/protest_concert/day_concert/images (12).jpg\n",
      "/downloads/kenglish/data/protest_concert/day_concert/140311707.jpg\n",
      "/downloads/kenglish/data/protest_concert/day_concert/images (4).jpg\n",
      "/downloads/kenglish/data/protest_concert/day_concert/140311641.jpg\n",
      "/downloads/kenglish/data/protest_concert/day_concert/images (20).jpg\n",
      "/downloads/kenglish/data/protest_concert/day_concert/images (16).jpg\n",
      "/downloads/kenglish/data/protest_concert/day_concert/p1201131556-3.jpg\n",
      "/downloads/kenglish/data/protest_concert/day_concert/images (9).jpg\n",
      "/downloads/kenglish/data/protest_concert/day_concert/img_0499.jpg\n",
      "/downloads/kenglish/data/protest_concert/day_concert/149314077.jpg\n",
      "/downloads/kenglish/data/protest_concert/day_concert/images (7).jpg\n",
      "/downloads/kenglish/data/protest_concert/day_concert/legends-day-concert-e1432416290565.jpg\n",
      "/downloads/kenglish/data/protest_concert/day_concert/6110820.0.jpg\n",
      "/downloads/kenglish/data/protest_concert/day_concert/o-CONCERT-facebook.jpg\n",
      "/downloads/kenglish/data/protest_concert/day_concert/images (24).jpg\n",
      "/downloads/kenglish/data/protest_concert/day_concert/images (14).jpg\n",
      "/downloads/kenglish/data/protest_concert/day_concert/140311671.jpg\n",
      "/downloads/kenglish/data/protest_concert/day_concert/maxresdefault.jpg\n",
      "/downloads/kenglish/data/protest_concert/day_concert/140311671 (1).jpg\n",
      "/downloads/kenglish/data/protest_concert/day_concert/images (10).jpg\n",
      "/downloads/kenglish/data/protest_concert/day_concert/1.jpg\n",
      "/downloads/kenglish/data/protest_concert/day_concert/danielle-bradbery-set-to-headline-memorial-day-concert-07.jpg\n",
      "/downloads/kenglish/data/protest_concert/day_concert/images (19).jpg\n",
      "/downloads/kenglish/data/protest_concert/day_concert/140311643.jpg\n",
      "/downloads/kenglish/data/protest_concert/day_concert/images (3).jpg\n",
      "/downloads/kenglish/data/protest_concert/day_concert/images (6).jpg\n",
      "/downloads/kenglish/data/protest_concert/day_concert/images (17).jpg\n",
      "/downloads/kenglish/data/protest_concert/day_concert/Audience_on_Memorial_Glade_for_Cold_War_Kids_concert_at_Cal_Day_2010_4.JPG\n",
      "/downloads/kenglish/data/protest_concert/day_concert/images (5).jpg\n",
      "/downloads/kenglish/data/protest_concert/day_concert/images (13).jpg\n",
      "/downloads/kenglish/data/protest_concert/day_concert/_68734802_tahrirsquare.jpg\n",
      "/downloads/kenglish/data/protest_concert/day_concert/images (11).jpg\n",
      "/downloads/kenglish/data/protest_concert/day_concert/images (1).jpg\n",
      "/downloads/kenglish/data/protest_concert/day_concert/images (23).jpg\n",
      "/downloads/kenglish/data/protest_concert/day_concert/images (8).jpg\n",
      "/downloads/kenglish/data/protest_concert/day_protest/michael-brown-rally-portland-11252014.jpg\n",
      "/downloads/kenglish/data/protest_concert/day_protest/120114-Ferguson-LB.jpg\n",
      "/downloads/kenglish/data/protest_concert/day_protest/517318_Police-Shooting-Missouri.2.jpg\n",
      "/downloads/kenglish/data/protest_concert/day_protest/_77049457_e0ef995e-be90-40ea-b140-9a3d7583ce15.jpg\n",
      "/downloads/kenglish/data/protest_concert/day_protest/images.jpg\n",
      "/downloads/kenglish/data/protest_concert/day_protest/images (2).jpg\n",
      "/downloads/kenglish/data/protest_concert/day_protest/ferguson-st-louis-protest-riots-shooting-4.jpg\n",
      "/downloads/kenglish/data/protest_concert/day_protest/hands-up-dont-shoot.jpg\n",
      "/downloads/kenglish/data/protest_concert/day_protest/ferguson-protest-mlkday_wide-65a9c7f58608daa03f184521fd94812b20b5ea02.jpg\n",
      "/downloads/kenglish/data/protest_concert/day_protest/081914_ferguson_rally_CC3_1.JPG\n",
      "/downloads/kenglish/data/protest_concert/day_protest/238D981E00000578-0-image-2_1417109613278.jpg\n",
      "/downloads/kenglish/data/protest_concert/day_protest/54497e022cdc3.image.jpg\n",
      "/downloads/kenglish/data/protest_concert/day_protest/13797482.jpg\n",
      "/downloads/kenglish/data/protest_concert/day_protest/Racism.jpg\n",
      "/downloads/kenglish/data/protest_concert/day_protest/AR-311269957.jpg\n",
      "/downloads/kenglish/data/protest_concert/day_protest/margaret_marrow.jpg\n",
      "/downloads/kenglish/data/protest_concert/day_protest/Brown_protest_1_cvr_t750x550.jpg\n",
      "/downloads/kenglish/data/protest_concert/day_protest/_76934018_76934017.jpg\n",
      "/downloads/kenglish/data/protest_concert/day_protest/1407735871000-AP-Police-Shooting-Missouri-002.jpg\n",
      "/downloads/kenglish/data/protest_concert/day_protest/s21USME.jpg\n",
      "/downloads/kenglish/data/protest_concert/day_protest/images (4).jpg\n",
      "/downloads/kenglish/data/protest_concert/day_protest/53ec0bcf8dcc5.image.jpg\n",
      "/downloads/kenglish/data/protest_concert/day_protest/238EACCC00000578-2852132-image-55_1417112044371.jpg\n",
      "/downloads/kenglish/data/protest_concert/day_protest/ss-150810-ferguson-mn-03.nbcnews-ux-1024-900.jpg\n",
      "/downloads/kenglish/data/protest_concert/day_protest/AR-141019925.jpg&Maxw=960&q=75\n",
      "/downloads/kenglish/data/protest_concert/day_protest/ss-150810-ferguson-mn-04.nbcnews-ux-1024-900.jpg\n",
      "/downloads/kenglish/data/protest_concert/day_protest/Police-Shooting-Missouri-Protests-19.jpg\n",
      "/downloads/kenglish/data/protest_concert/day_protest/FERGUSON-master1050.jpg\n",
      "/downloads/kenglish/data/protest_concert/day_protest/palescbtu.JPG\n",
      "/downloads/kenglish/data/protest_concert/day_protest/ALT-PARADE-articleLarge.jpg\n",
      "/downloads/kenglish/data/protest_concert/day_protest/Protest image.jpg\n",
      "/downloads/kenglish/data/protest_concert/day_protest/lead.jpg\n",
      "/downloads/kenglish/data/protest_concert/day_protest/p01-04-09_111203.jpg\n",
      "/downloads/kenglish/data/protest_concert/day_protest/20141129__20141130_A8_ND30FERGUSONJPICp1.jpg\n",
      "/downloads/kenglish/data/protest_concert/day_protest/Bl2koSLCYAAEJYi.jpg\n",
      "/downloads/kenglish/data/protest_concert/day_protest/14940698396_80e1cf357e_k.jpg\n",
      "/downloads/kenglish/data/protest_concert/day_protest/resize.jpg\n",
      "/downloads/kenglish/data/protest_concert/day_protest/boston_common_vigil_peaceful_protest_ferguson_839.jpg\n",
      "/downloads/kenglish/data/protest_concert/day_protest/images (3).jpg\n",
      "/downloads/kenglish/data/protest_concert/day_protest/20140831_FERGUSON-slide-9I9F-master1050.jpg\n",
      "/downloads/kenglish/data/protest_concert/day_protest/fergusonmarch2_2014_ijmd5m.jpg\n",
      "/downloads/kenglish/data/protest_concert/day_protest/9.jpg\n",
      "/downloads/kenglish/data/protest_concert/day_protest/-7715a50f35fa6632.JPG\n",
      "/downloads/kenglish/data/protest_concert/day_protest/Ferguson,_Day_4,_Photo_26.png\n",
      "/downloads/kenglish/data/protest_concert/day_protest/peaceful-protests-ferg.jpg\n",
      "/downloads/kenglish/data/protest_concert/day_protest/453643968.jpg.CROP.promovar-mediumlarge.jpg\n",
      "/downloads/kenglish/data/protest_concert/day_protest/239A758100000578-2854363-Journey_for_justice_Demonstrators_start_a_seven_day_march_from_F-7_1417302419054.jpg\n",
      "/downloads/kenglish/data/protest_concert/day_protest/images (1).jpg\n",
      "/downloads/kenglish/data/protest_concert/day_protest/michael-brown-protest-police.jpg\n",
      "/downloads/kenglish/data/protest_concert/night_concert/images (32).jpg\n",
      "/downloads/kenglish/data/protest_concert/night_concert/images (21).jpg\n",
      "/downloads/kenglish/data/protest_concert/night_concert/download.jpg\n",
      "/downloads/kenglish/data/protest_concert/night_concert/images.jpg\n",
      "/downloads/kenglish/data/protest_concert/night_concert/images (2).jpg\n",
      "/downloads/kenglish/data/protest_concert/night_concert/images (22).jpg\n",
      "/downloads/kenglish/data/protest_concert/night_concert/images (15).jpg\n",
      "/downloads/kenglish/data/protest_concert/night_concert/images (37).jpg\n",
      "/downloads/kenglish/data/protest_concert/night_concert/images (34).jpg\n",
      "/downloads/kenglish/data/protest_concert/night_concert/images (40).jpg\n",
      "/downloads/kenglish/data/protest_concert/night_concert/images (27).jpg\n",
      "/downloads/kenglish/data/protest_concert/night_concert/images (18).jpg\n",
      "/downloads/kenglish/data/protest_concert/night_concert/images (31).jpg\n",
      "/downloads/kenglish/data/protest_concert/night_concert/images (28).jpg\n",
      "/downloads/kenglish/data/protest_concert/night_concert/images (38).jpg\n",
      "/downloads/kenglish/data/protest_concert/night_concert/images (26).jpg\n",
      "/downloads/kenglish/data/protest_concert/night_concert/images (36).jpg\n",
      "/downloads/kenglish/data/protest_concert/night_concert/images (12).jpg\n",
      "/downloads/kenglish/data/protest_concert/night_concert/images (4).jpg\n",
      "/downloads/kenglish/data/protest_concert/night_concert/images (25).jpg\n",
      "/downloads/kenglish/data/protest_concert/night_concert/images (20).jpg\n",
      "/downloads/kenglish/data/protest_concert/night_concert/images (16).jpg\n",
      "/downloads/kenglish/data/protest_concert/night_concert/images (9).jpg\n",
      "/downloads/kenglish/data/protest_concert/night_concert/images (7).jpg\n",
      "/downloads/kenglish/data/protest_concert/night_concert/download (2).jpg\n",
      "/downloads/kenglish/data/protest_concert/night_concert/images (29).jpg\n",
      "/downloads/kenglish/data/protest_concert/night_concert/images (24).jpg\n",
      "/downloads/kenglish/data/protest_concert/night_concert/0 (1).jpg\n",
      "/downloads/kenglish/data/protest_concert/night_concert/160166101.jpg\n",
      "/downloads/kenglish/data/protest_concert/night_concert/images (14).jpg\n",
      "/downloads/kenglish/data/protest_concert/night_concert/maxresdefault.jpg\n",
      "/downloads/kenglish/data/protest_concert/night_concert/images (10).jpg\n",
      "/downloads/kenglish/data/protest_concert/night_concert/0.jpg\n",
      "/downloads/kenglish/data/protest_concert/night_concert/images (19).jpg\n",
      "/downloads/kenglish/data/protest_concert/night_concert/images (3).jpg\n",
      "/downloads/kenglish/data/protest_concert/night_concert/images (41).jpg\n",
      "/downloads/kenglish/data/protest_concert/night_concert/images (6).jpg\n",
      "/downloads/kenglish/data/protest_concert/night_concert/images (17).jpg\n",
      "/downloads/kenglish/data/protest_concert/night_concert/140311685.jpg\n",
      "/downloads/kenglish/data/protest_concert/night_concert/images (5).jpg\n",
      "/downloads/kenglish/data/protest_concert/night_concert/images (35).jpg\n",
      "/downloads/kenglish/data/protest_concert/night_concert/images (39).jpg\n",
      "/downloads/kenglish/data/protest_concert/night_concert/download (1).jpg\n",
      "/downloads/kenglish/data/protest_concert/night_concert/images (13).jpg\n",
      "/downloads/kenglish/data/protest_concert/night_concert/images (11).jpg\n",
      "/downloads/kenglish/data/protest_concert/night_concert/images (1).jpg\n",
      "/downloads/kenglish/data/protest_concert/night_concert/images (33).jpg\n",
      "/downloads/kenglish/data/protest_concert/night_concert/images (30).jpg\n",
      "/downloads/kenglish/data/protest_concert/night_concert/images (23).jpg\n",
      "/downloads/kenglish/data/protest_concert/night_concert/images (8).jpg\n",
      "/downloads/kenglish/data/protest_concert/night_protest/237E084E00000578-2849608-Don_t_shoot_A_protestor_poses_for_a_hands_up_photo_in_front_of_a-18_1416962801713.jpg\n",
      "/downloads/kenglish/data/protest_concert/night_protest/article-0-1CAF513600000578-876_634x392.jpg\n",
      "/downloads/kenglish/data/protest_concert/night_protest/images.jpg\n",
      "/downloads/kenglish/data/protest_concert/night_protest/images (2).jpg\n",
      "/downloads/kenglish/data/protest_concert/night_protest/alg-oakland-jpg.jpg\n",
      "/downloads/kenglish/data/protest_concert/night_protest/140819_POL_Ferguson-Journalist0819.jpg.CROP.promo-mediumlarge.jpg\n",
      "/downloads/kenglish/data/protest_concert/night_protest/demonstrators-protest-michael-brown-fatal-shooting.jpg\n",
      "/downloads/kenglish/data/protest_concert/night_protest/web1_AP16266058394521a.jpg\n",
      "/downloads/kenglish/data/protest_concert/night_protest/ferguson-missouri.jpg\n",
      "/downloads/kenglish/data/protest_concert/night_protest/_79247850_79247849.jpg\n",
      "/downloads/kenglish/data/protest_concert/night_protest/5743716235_48102ba4ed_b.jpg\n",
      "/downloads/kenglish/data/protest_concert/night_protest/140814_POL_Ferguson_06.jpg.CROP.original-original.jpg\n",
      "/downloads/kenglish/data/protest_concert/night_protest/phoenix protsters.jpg\n",
      "/downloads/kenglish/data/protest_concert/night_protest/296FAEF200000578-3114810-Trouble_Riot_police_respond_to_trouble_outside_the_MetLife_Stadi-a-35_1433765903016.jpg\n",
      "/downloads/kenglish/data/protest_concert/night_protest/AP185066849357.jpg\n",
      "/downloads/kenglish/data/protest_concert/night_protest/images (4).jpg\n",
      "/downloads/kenglish/data/protest_concert/night_protest/https---blueprint-api-production.s3.amazonaws.com-uploads-card-image-218217-AP_16265443008872.jpg\n",
      "/downloads/kenglish/data/protest_concert/night_protest/143384_FergusonReact_1570_mh.jpg\n",
      "/downloads/kenglish/data/protest_concert/night_protest/Police-officers-point-their-weapons-at-demonstrators-protesting-against-the-shooting-death-of-Michael-Brown-in-Ferguson-Missouri-August-18-2014.-REUTERS_Joshua-Lott-800x430.jpg\n",
      "/downloads/kenglish/data/protest_concert/night_protest/Ferguson_Bing.jpg\n",
      "/downloads/kenglish/data/protest_concert/night_protest/150315144531-01-ferguson-0315-exlarge-169.jpg\n",
      "/downloads/kenglish/data/protest_concert/night_protest/609632678.jpg\n",
      "/downloads/kenglish/data/protest_concert/night_protest/images (7).jpg\n",
      "/downloads/kenglish/data/protest_concert/night_protest/46946022.cached.jpg\n",
      "/downloads/kenglish/data/protest_concert/night_protest/140819_POL_Ferguson-0818.jpg.CROP.original-original.jpg\n",
      "/downloads/kenglish/data/protest_concert/night_protest/BN-FS560_1125fe_M_20141125082217.jpg\n",
      "/downloads/kenglish/data/protest_concert/night_protest/la-na-nn-ferguson-protest-police-20140815.jpg\n",
      "/downloads/kenglish/data/protest_concert/night_protest/ferguson-protests.jpg\n",
      "/downloads/kenglish/data/protest_concert/night_protest/WEB_PHOTO_FERGUSON_OAKLAND_25112014.jpg\n",
      "/downloads/kenglish/data/protest_concert/night_protest/charlotte-1-620x414.jpg\n",
      "/downloads/kenglish/data/protest_concert/night_protest/1.jpg\n",
      "/downloads/kenglish/data/protest_concert/night_protest/pemnnstateriots2_centredailynews.jpg\n",
      "/downloads/kenglish/data/protest_concert/night_protest/unnamed.jpg\n",
      "/downloads/kenglish/data/protest_concert/night_protest/images (3).jpg\n",
      "/downloads/kenglish/data/protest_concert/night_protest/images (6).jpg\n",
      "/downloads/kenglish/data/protest_concert/night_protest/ohio-state.jpg\n",
      "/downloads/kenglish/data/protest_concert/night_protest/o-KENTUCKY-FANS-GATHERED-LEXINGTON-570.jpg\n",
      "/downloads/kenglish/data/protest_concert/night_protest/images (5).jpg\n",
      "/downloads/kenglish/data/protest_concert/night_protest/BN-EE731_0820pr_G_20140820151224.jpg\n",
      "/downloads/kenglish/data/protest_concert/night_protest/453768712.jpg\n",
      "/downloads/kenglish/data/protest_concert/night_protest/F1060E43-18E9-4F94-9132-BC8514B7DF29_w987_r1_s.jpg\n",
      "/downloads/kenglish/data/protest_concert/night_protest/ferguson.jpg\n",
      "/downloads/kenglish/data/protest_concert/night_protest/1408198536001-AP-Police-Shooting-Missouri1.jpg\n",
      "/downloads/kenglish/data/protest_concert/night_protest/o-KENTUCKY-FANS-LEXINGTON-APRIL-570.jpg\n",
      "/downloads/kenglish/data/protest_concert/night_protest/Ferguson.jpg\n",
      "/downloads/kenglish/data/protest_concert/night_protest/images (1).jpg\n",
      "/downloads/kenglish/data/protest_concert/night_protest/453807546-law-enforcement-officers-watch-on-during-a-protest-on.jpg.CROP.promovar-mediumlarge.jpg\n",
      "/downloads/kenglish/data/protest_concert/night_protest/demonstrators-protest-the-shooting-death-of-teenager-michael-brown-in-ferguson-missouri.jpg\n"
     ]
    }
   ],
   "source": [
    "# NOTE:  I had to delete corrupted files from the file list\n",
    "files = myTestFiles()\n",
    "net.blobs['data'].reshape(len(files), 3, 227, 227)\n",
    "i = 0\n",
    "for fpath in files:\n",
    "    net.blobs['data'].data[i] = transformer.preprocess('data', caffe.io.load_image(fpath))\n",
    "    i += 1\n"
   ]
  },
  {
   "cell_type": "code",
   "execution_count": 20,
   "metadata": {
    "collapsed": false
   },
   "outputs": [
    {
     "data": {
      "text/plain": [
       "{'prob': array([[  3.18476036e-02,   6.25328452e-04,   5.79774351e-05, ...,\n",
       "           2.18029818e-04,   1.65074060e-04,   1.89294741e-02],\n",
       "        [  1.42688383e-04,   3.35191522e-04,   5.56830666e-04, ...,\n",
       "           1.20662880e-04,   4.43004334e-04,   4.06470662e-03],\n",
       "        [  6.33405443e-06,   8.57481064e-06,   4.08893320e-05, ...,\n",
       "           6.10001109e-07,   1.02734646e-06,   1.94984350e-05],\n",
       "        ..., \n",
       "        [  1.29576118e-04,   8.87716596e-04,   3.45480815e-03, ...,\n",
       "           6.97018868e-06,   3.76496209e-05,   3.35488876e-05],\n",
       "        [  1.55824207e-04,   3.64760672e-05,   7.01424840e-04, ...,\n",
       "           5.98932675e-05,   3.53851035e-04,   1.13827083e-03],\n",
       "        [  7.93358340e-05,   1.71571155e-04,   1.22411258e-03, ...,\n",
       "           1.26472238e-04,   1.34341448e-04,   3.82153405e-04]], dtype=float32)}"
      ]
     },
     "execution_count": 20,
     "metadata": {},
     "output_type": "execute_result"
    }
   ],
   "source": [
    "net.forward()"
   ]
  },
  {
   "cell_type": "code",
   "execution_count": 28,
   "metadata": {
    "collapsed": false
   },
   "outputs": [],
   "source": [
    "f0 = net.blobs['conv3'].data[0]"
   ]
  },
  {
   "cell_type": "code",
   "execution_count": 30,
   "metadata": {
    "collapsed": false
   },
   "outputs": [
    {
     "data": {
      "text/plain": [
       "(384, 13, 13)"
      ]
     },
     "execution_count": 30,
     "metadata": {},
     "output_type": "execute_result"
    }
   ],
   "source": [
    "f0.shape"
   ]
  },
  {
   "cell_type": "code",
   "execution_count": 31,
   "metadata": {
    "collapsed": false
   },
   "outputs": [
    {
     "data": {
      "text/plain": [
       "(384, 13, 13)"
      ]
     },
     "execution_count": 31,
     "metadata": {},
     "output_type": "execute_result"
    }
   ],
   "source": [
    "net.blobs['conv4'].data[0].shape"
   ]
  },
  {
   "cell_type": "code",
   "execution_count": 33,
   "metadata": {
    "collapsed": false
   },
   "outputs": [
    {
     "data": {
      "text/plain": [
       "['data',\n",
       " 'conv1',\n",
       " 'pool1',\n",
       " 'norm1',\n",
       " 'conv2',\n",
       " 'pool2',\n",
       " 'norm2',\n",
       " 'conv3',\n",
       " 'conv4',\n",
       " 'conv5',\n",
       " 'pool5',\n",
       " 'fc6',\n",
       " 'fc7',\n",
       " 'fc8',\n",
       " 'prob']"
      ]
     },
     "execution_count": 33,
     "metadata": {},
     "output_type": "execute_result"
    }
   ],
   "source": [
    "net.blobs.keys()"
   ]
  },
  {
   "cell_type": "code",
   "execution_count": 35,
   "metadata": {
    "collapsed": false
   },
   "outputs": [
    {
     "data": {
      "text/plain": [
       "(256, 13, 13)"
      ]
     },
     "execution_count": 35,
     "metadata": {},
     "output_type": "execute_result"
    }
   ],
   "source": [
    "net.blobs['norm2'].data[0].shape"
   ]
  },
  {
   "cell_type": "code",
   "execution_count": 37,
   "metadata": {
    "collapsed": false
   },
   "outputs": [
    {
     "data": {
      "text/plain": [
       "(0.0, 138.60257)"
      ]
     },
     "execution_count": 37,
     "metadata": {},
     "output_type": "execute_result"
    }
   ],
   "source": [
    "min(net.blobs['norm2'].data[0].flatten()) , max(net.blobs['norm2'].data[0].flatten())"
   ]
  },
  {
   "cell_type": "code",
   "execution_count": 39,
   "metadata": {
    "collapsed": false
   },
   "outputs": [
    {
     "data": {
      "text/plain": [
       "243.06351"
      ]
     },
     "execution_count": 39,
     "metadata": {},
     "output_type": "execute_result"
    }
   ],
   "source": [
    "np.dot(net.blobs['norm2'].data[0].flatten()/256.0,net.blobs['norm2'].data[1].flatten()/256.0)"
   ]
  },
  {
   "cell_type": "code",
   "execution_count": null,
   "metadata": {
    "collapsed": true
   },
   "outputs": [],
   "source": [
    "feat = [ net.blobs['conv3'].data[i] for i in range(len(net.blobs['data'].data))]"
   ]
  },
  {
   "cell_type": "code",
   "execution_count": 40,
   "metadata": {
    "collapsed": false
   },
   "outputs": [
    {
     "data": {
      "text/plain": [
       "'<caffe._caffe.Blob object at 0x7f3eed727140>'"
      ]
     },
     "execution_count": 40,
     "metadata": {},
     "output_type": "execute_result"
    }
   ],
   "source": [
    "repr(net.blobs['norm2'])"
   ]
  },
  {
   "cell_type": "code",
   "execution_count": 56,
   "metadata": {
    "collapsed": false
   },
   "outputs": [
    {
     "data": {
      "text/plain": [
       "<matplotlib.image.AxesImage at 0x7f3eec3b9510>"
      ]
     },
     "execution_count": 56,
     "metadata": {},
     "output_type": "execute_result"
    },
    {
     "data": {
      "image/png": "[encoded data removed]",
      "text/plain": [
       "<matplotlib.figure.Figure at 0x7f3eec43b0d0>"
      ]
     },
     "metadata": {},
     "output_type": "display_data"
    }
   ],
   "source": [
    "plt.imshow(net.blobs['norm2'].data[0][0], cmap = plt.get_cmap('gray'))"
   ]
  },
  {
   "cell_type": "code",
   "execution_count": 57,
   "metadata": {
    "collapsed": false
   },
   "outputs": [
    {
     "data": {
      "text/plain": [
       "<matplotlib.image.AxesImage at 0x7f3eec2f19d0>"
      ]
     },
     "execution_count": 57,
     "metadata": {},
     "output_type": "execute_result"
    },
    {
     "data": {
      "image/png": "[encoded data removed]",
      "text/plain": [
       "<matplotlib.figure.Figure at 0x7f3eec3ef550>"
      ]
     },
     "metadata": {},
     "output_type": "display_data"
    }
   ],
   "source": [
    "plt.imshow(net.blobs['norm2'].data[1][0], cmap = plt.get_cmap('gray'))"
   ]
  },
  {
   "cell_type": "code",
   "execution_count": 54,
   "metadata": {
    "collapsed": true
   },
   "outputs": [],
   "source": [
    "c = signal.convolve(net.blobs['norm2'].data[0][0], net.blobs['norm2'].data[1][0])"
   ]
  },
  {
   "cell_type": "code",
   "execution_count": 55,
   "metadata": {
    "collapsed": false
   },
   "outputs": [
    {
     "data": {
      "text/plain": [
       "<matplotlib.image.AxesImage at 0x7f3eec486a10>"
      ]
     },
     "execution_count": 55,
     "metadata": {},
     "output_type": "execute_result"
    },
    {
     "data": {
      "image/png": "[encoded data removed]",
      "text/plain": [
       "<matplotlib.figure.Figure at 0x7f3eed514d50>"
      ]
     },
     "metadata": {},
     "output_type": "display_data"
    }
   ],
   "source": [
    "plt.imshow(c, cmap = plt.get_cmap('gray'))"
   ]
  },
  {
   "cell_type": "code",
   "execution_count": 58,
   "metadata": {
    "collapsed": false
   },
   "outputs": [
    {
     "data": {
      "text/plain": [
       "7120.0938"
      ]
     },
     "execution_count": 58,
     "metadata": {},
     "output_type": "execute_result"
    }
   ],
   "source": [
    "max(c.flatten())"
   ]
  },
  {
   "cell_type": "code",
   "execution_count": 59,
   "metadata": {
    "collapsed": false
   },
   "outputs": [
    {
     "data": {
      "text/plain": [
       "251275.12438583374"
      ]
     },
     "execution_count": 59,
     "metadata": {},
     "output_type": "execute_result"
    }
   ],
   "source": [
    "sum(c.flatten())"
   ]
  },
  {
   "cell_type": "code",
   "execution_count": 60,
   "metadata": {
    "collapsed": true
   },
   "outputs": [],
   "source": [
    "v_white = [255.0] * 13\n",
    "m_white = [v_white] * 13\n",
    "a_white = np.array(m_white)\n",
    "c_white = signal.convolve(a_white, a_white)"
   ]
  },
  {
   "cell_type": "code",
   "execution_count": 61,
   "metadata": {
    "collapsed": false
   },
   "outputs": [
    {
     "data": {
      "text/plain": [
       "10989225.0"
      ]
     },
     "execution_count": 61,
     "metadata": {},
     "output_type": "execute_result"
    }
   ],
   "source": [
    "max(c_white.flatten())"
   ]
  },
  {
   "cell_type": "code",
   "execution_count": 62,
   "metadata": {
    "collapsed": false
   },
   "outputs": [
    {
     "data": {
      "text/plain": [
       "43095.0"
      ]
     },
     "execution_count": 62,
     "metadata": {},
     "output_type": "execute_result"
    }
   ],
   "source": [
    "10989225.0 / 255.0"
   ]
  },
  {
   "cell_type": "code",
   "execution_count": 63,
   "metadata": {
    "collapsed": false
   },
   "outputs": [
    {
     "data": {
      "text/plain": [
       "(25, 25)"
      ]
     },
     "execution_count": 63,
     "metadata": {},
     "output_type": "execute_result"
    }
   ],
   "source": [
    "c_white.shape"
   ]
  },
  {
   "cell_type": "code",
   "execution_count": 64,
   "metadata": {
    "collapsed": false
   },
   "outputs": [
    {
     "data": {
      "text/plain": [
       "<matplotlib.image.AxesImage at 0x7f3eec22ec10>"
      ]
     },
     "execution_count": 64,
     "metadata": {},
     "output_type": "execute_result"
    },
    {
     "data": {
      "image/png": "[encoded data removed]",
      "text/plain": [
       "<matplotlib.figure.Figure at 0x7f3eec3d1a50>"
      ]
     },
     "metadata": {},
     "output_type": "display_data"
    }
   ],
   "source": [
    "plt.imshow(c_white, cmap = plt.get_cmap('gray'))"
   ]
  },
  {
   "cell_type": "code",
   "execution_count": 65,
   "metadata": {
    "collapsed": true
   },
   "outputs": [],
   "source": [
    "v_black = [0.0] * 13\n",
    "m_black = [v_black] * 13\n",
    "a_black = np.array(m_black)\n",
    "c_black = signal.convolve(a_black, a_black)"
   ]
  },
  {
   "cell_type": "code",
   "execution_count": 66,
   "metadata": {
    "collapsed": false
   },
   "outputs": [
    {
     "data": {
      "text/plain": [
       "<matplotlib.image.AxesImage at 0x7f3eec163290>"
      ]
     },
     "execution_count": 66,
     "metadata": {},
     "output_type": "execute_result"
    },
    {
     "data": {
      "image/png": "[encoded data removed]",
      "text/plain": [
       "<matplotlib.figure.Figure at 0x7f3eec1e3510>"
      ]
     },
     "metadata": {},
     "output_type": "display_data"
    }
   ],
   "source": [
    "plt.imshow(c_black, cmap = plt.get_cmap('gray'))"
   ]
  },
  {
   "cell_type": "code",
   "execution_count": 76,
   "metadata": {
    "collapsed": true
   },
   "outputs": [],
   "source": [
    "def dist(V, W, scale):\n",
    "    D = (W.flatten() - V.flatten()) / scale\n",
    "    return np.dot(D, D)/np.prod(V.shape)"
   ]
  },
  {
   "cell_type": "code",
   "execution_count": 77,
   "metadata": {
    "collapsed": false
   },
   "outputs": [
    {
     "data": {
      "text/plain": [
       "0.0074506398488783975"
      ]
     },
     "execution_count": 77,
     "metadata": {},
     "output_type": "execute_result"
    }
   ],
   "source": [
    "dist(net.blobs['norm2'].data[0][0], net.blobs['norm2'].data[1][0], 255.0)"
   ]
  },
  {
   "cell_type": "code",
   "execution_count": 81,
   "metadata": {
    "collapsed": false
   },
   "outputs": [
    {
     "data": {
      "text/plain": [
       "[(0.12527861961951622, 48, 83, 91),\n",
       " (0.12531983640772351, 25, 68, 79),\n",
       " (0.12633571963338458, 25, 106, 79),\n",
       " (0.12633571963338458, 25, 120, 79),\n",
       " (0.12749055715707633, 25, 36, 79),\n",
       " (0.12877155055661174, 25, 160, 79),\n",
       " (0.12890812349037306, 25, 65, 79),\n",
       " (0.12998227678107085, 25, 155, 79),\n",
       " (0.1355112403102175, 25, 149, 79),\n",
       " (0.1386443030904736, 22, 115, 104)]"
      ]
     },
     "execution_count": 81,
     "metadata": {},
     "output_type": "execute_result"
    }
   ],
   "source": [
    "N_images = len(net.blobs['norm2'].data)\n",
    "all_distances = []\n",
    "for i in range(N_images):\n",
    "    for ii in range(i+1, N_images):\n",
    "        for j in range(256):\n",
    "            d = dist(net.blobs['norm2'].data[i][j], net.blobs['norm2'].data[ii][j], 255.0)\n",
    "            all_distances.append((d, i, ii, j))\n",
    "all_distances.sort()\n",
    "all_distances[0:10]\n",
    "all_distances[-10:]"
   ]
  },
  {
   "cell_type": "code",
   "execution_count": 84,
   "metadata": {
    "collapsed": false
   },
   "outputs": [
    {
     "data": {
      "text/plain": [
       "4942336"
      ]
     },
     "execution_count": 84,
     "metadata": {},
     "output_type": "execute_result"
    }
   ],
   "source": [
    "len(all_distances)"
   ]
  },
  {
   "cell_type": "code",
   "execution_count": 108,
   "metadata": {
    "collapsed": false
   },
   "outputs": [
    {
     "data": {
      "text/plain": [
       "17905"
      ]
     },
     "execution_count": 108,
     "metadata": {},
     "output_type": "execute_result"
    }
   ],
   "source": [
    "# TOP of match list:\n",
    "# There are a number of exact matches between a given feature identified in pairs of images\n",
    "def exactMatchCount():\n",
    "    n = 0\n",
    "    for tup in all_distances:\n",
    "        if tup[0] < 0.000000001:\n",
    "            n = n + 1\n",
    "        else:\n",
    "            # (all_distances is sorted)\n",
    "            break\n",
    "    return n\n",
    "exactMatchCount()"
   ]
  },
  {
   "cell_type": "code",
   "execution_count": 107,
   "metadata": {
    "collapsed": false
   },
   "outputs": [
    {
     "data": {
      "text/plain": [
       "[(0.0108025504287178, 108, 139, 144),\n",
       " (0.010802554661000269, 23, 191, 213),\n",
       " (0.0108025687686085, 15, 103, 244),\n",
       " (0.010802575117032203, 136, 167, 167),\n",
       " (0.010802583581597141, 144, 169, 89),\n",
       " (0.010802584992357965, 22, 36, 191),\n",
       " (0.010802585697738377, 69, 155, 25),\n",
       " (0.010802606859150722, 41, 171, 82),\n",
       " (0.010802608975291958, 81, 177, 43),\n",
       " (0.010802613912954838, 106, 139, 175)]"
      ]
     },
     "execution_count": 107,
     "metadata": {},
     "output_type": "execute_result"
    }
   ],
   "source": [
    "# MIDDLE of match list:\n",
    "middle_index = len(all_distances)/2\n",
    "all_distances[middle_index-5:middle_index+5]"
   ]
  },
  {
   "cell_type": "code",
   "execution_count": 109,
   "metadata": {
    "collapsed": false
   },
   "outputs": [
    {
     "data": {
      "text/plain": [
       "[(0.12527861961951622, 48, 83, 91),\n",
       " (0.12531983640772351, 25, 68, 79),\n",
       " (0.12633571963338458, 25, 106, 79),\n",
       " (0.12633571963338458, 25, 120, 79),\n",
       " (0.12749055715707633, 25, 36, 79),\n",
       " (0.12877155055661174, 25, 160, 79),\n",
       " (0.12890812349037306, 25, 65, 79),\n",
       " (0.12998227678107085, 25, 155, 79),\n",
       " (0.1355112403102175, 25, 149, 79),\n",
       " (0.1386443030904736, 22, 115, 104)]"
      ]
     },
     "execution_count": 109,
     "metadata": {},
     "output_type": "execute_result"
    }
   ],
   "source": [
    "# BOTTOM of match list:\n",
    "# We see that the way we computed \"distance\" doesn't give the most intuitive numerical results ...\n",
    "# \"0.138\" is FAR FAR Away and as different as two features can get in this computation\n",
    "all_distances[-10:]"
   ]
  },
  {
   "cell_type": "code",
   "execution_count": 94,
   "metadata": {
    "collapsed": true
   },
   "outputs": [],
   "source": [
    "# pulls the top ==num== pairs from the sorted all_distances array.\n",
    "def topPairs(num):\n",
    "    pair_dict = {}\n",
    "    for i in range(num):\n",
    "        pair = (all_distances[i][1], all_distances[i][2])\n",
    "        if pair not in pair_dict:\n",
    "            pair_dict[pair] = 0\n",
    "        pair_dict[pair] = pair_dict[pair] + 1\n",
    "    pair_list = []\n",
    "    for pair in pair_dict:\n",
    "        pair_list.append( (pair_dict[pair], pair))\n",
    "    pair_list.sort(reverse=True)\n",
    "    return pair_list"
   ]
  },
  {
   "cell_type": "code",
   "execution_count": 97,
   "metadata": {
    "collapsed": false
   },
   "outputs": [
    {
     "data": {
      "text/plain": [
       "[(256, (145, 147)),\n",
       " (256, (126, 131)),\n",
       " (256, (122, 142)),\n",
       " (256, (121, 138)),\n",
       " (256, (116, 148)),\n",
       " (256, (113, 128)),\n",
       " (256, (106, 120)),\n",
       " (256, (102, 143)),\n",
       " (256, (101, 148)),\n",
       " (256, (101, 116)),\n",
       " (256, (99, 125)),\n",
       " (256, (31, 33)),\n",
       " (226, (125, 137)),\n",
       " (226, (99, 137)),\n",
       " (111, (7, 24)),\n",
       " (110, (24, 35)),\n",
       " (109, (7, 35)),\n",
       " (103, (7, 45)),\n",
       " (102, (28, 35)),\n",
       " (102, (24, 25)),\n",
       " (101, (28, 45)),\n",
       " (99, (7, 28)),\n",
       " (97, (114, 146)),\n",
       " (97, (35, 45)),\n",
       " (97, (25, 35)),\n",
       " (96, (22, 24)),\n",
       " (95, (22, 45)),\n",
       " (94, (22, 28)),\n",
       " (93, (2, 35)),\n",
       " (92, (45, 156)),\n",
       " (92, (2, 24)),\n",
       " (91, (24, 156)),\n",
       " (91, (24, 28)),\n",
       " (91, (22, 35)),\n",
       " (91, (7, 22)),\n",
       " (90, (35, 156)),\n",
       " (90, (35, 48)),\n",
       " (90, (24, 45)),\n",
       " (89, (7, 156)),\n",
       " (88, (28, 34)),\n",
       " (88, (22, 25)),\n",
       " (88, (7, 25)),\n",
       " (87, (28, 156)),\n",
       " (87, (2, 48)),\n",
       " (87, (2, 25)),\n",
       " (86, (25, 156)),\n",
       " (86, (25, 48)),\n",
       " (85, (34, 45)),\n",
       " (85, (25, 45)),\n",
       " (84, (125, 147)),\n",
       " (84, (125, 145)),\n",
       " (84, (99, 147)),\n",
       " (84, (99, 145)),\n",
       " (84, (34, 35)),\n",
       " (84, (7, 180)),\n",
       " (83, (146, 147)),\n",
       " (83, (145, 146)),\n",
       " (83, (25, 40)),\n",
       " (83, (2, 28)),\n",
       " (83, (2, 7)),\n",
       " (82, (35, 180)),\n",
       " (82, (33, 35)),\n",
       " (82, (31, 35)),\n",
       " (81, (35, 150)),\n",
       " (81, (35, 40)),\n",
       " (81, (24, 48)),\n",
       " (81, (24, 44)),\n",
       " (81, (22, 34)),\n",
       " (81, (22, 33)),\n",
       " (81, (22, 31)),\n",
       " (81, (7, 33)),\n",
       " (81, (7, 31)),\n",
       " (81, (2, 45)),\n",
       " (80, (125, 146)),\n",
       " (80, (99, 146)),\n",
       " (80, (25, 28)),\n",
       " (80, (24, 40)),\n",
       " (80, (10, 45)),\n",
       " (80, (10, 28)),\n",
       " (79, (114, 147)),\n",
       " (79, (114, 145)),\n",
       " (79, (24, 34)),\n",
       " (79, (10, 35)),\n",
       " (79, (7, 48)),\n",
       " (79, (7, 34)),\n",
       " (78, (137, 147)),\n",
       " (78, (137, 145)),\n",
       " (78, (45, 64)),\n",
       " (78, (45, 48)),\n",
       " (78, (35, 192)),\n",
       " (78, (35, 64)),\n",
       " (78, (35, 44)),\n",
       " (78, (33, 45)),\n",
       " (78, (31, 45)),\n",
       " (78, (28, 48)),\n",
       " (78, (24, 184)),\n",
       " (78, (24, 180)),\n",
       " (78, (24, 33)),\n",
       " (78, (24, 31)),\n",
       " (78, (7, 150)),\n",
       " (77, (45, 180)),\n",
       " (77, (45, 46)),\n",
       " (77, (28, 46)),\n",
       " (77, (28, 33)),\n",
       " (77, (28, 31)),\n",
       " (77, (22, 156)),\n",
       " (77, (22, 47)),\n",
       " (77, (18, 33)),\n",
       " (77, (18, 31)),\n",
       " (77, (10, 22)),\n",
       " (76, (34, 156)),\n",
       " (76, (28, 64)),\n",
       " (76, (25, 150)),\n",
       " (76, (24, 150)),\n",
       " (76, (22, 46)),\n",
       " (76, (7, 10)),\n",
       " (75, (156, 180)),\n",
       " (75, (125, 134)),\n",
       " (75, (99, 134)),\n",
       " (75, (35, 43)),\n",
       " (75, (28, 150)),\n",
       " (75, (25, 44)),\n",
       " (75, (10, 156)),\n",
       " (75, (8, 22)),\n",
       " (75, (7, 44)),\n",
       " (75, (7, 43)),\n",
       " (75, (7, 18)),\n",
       " (75, (2, 156)),\n",
       " (75, (2, 44)),\n",
       " (75, (2, 40)),\n",
       " (75, (2, 22)),\n",
       " (74, (137, 146)),\n",
       " (74, (109, 125)),\n",
       " (74, (99, 109)),\n",
       " (74, (45, 47)),\n",
       " (74, (25, 184)),\n",
       " (74, (25, 47)),\n",
       " (74, (25, 34)),\n",
       " (74, (10, 24)),\n",
       " (74, (8, 45)),\n",
       " (74, (7, 64)),\n",
       " (74, (7, 40)),\n",
       " (73, (43, 45)),\n",
       " (73, (37, 45)),\n",
       " (73, (28, 180)),\n",
       " (73, (24, 64)),\n",
       " (73, (18, 45)),\n",
       " (73, (7, 46)),\n",
       " (72, (114, 125)),\n",
       " (72, (109, 114)),\n",
       " (72, (99, 114)),\n",
       " (72, (48, 156)),\n",
       " (72, (28, 47)),\n",
       " (72, (25, 180)),\n",
       " (72, (24, 47)),\n",
       " (72, (23, 45)),\n",
       " (72, (10, 64)),\n",
       " (72, (7, 8)),\n",
       " (71, (150, 180)),\n",
       " (71, (127, 137)),\n",
       " (71, (109, 147)),\n",
       " (71, (109, 146)),\n",
       " (71, (109, 145)),\n",
       " (71, (108, 134)),\n",
       " (71, (35, 46)),\n",
       " (71, (28, 44)),\n",
       " (71, (28, 43)),\n",
       " (71, (24, 43)),\n",
       " (71, (22, 180)),\n",
       " (71, (22, 48)),\n",
       " (71, (8, 35)),\n",
       " (71, (7, 47)),\n",
       " (71, (1, 45)),\n",
       " (70, (111, 124)),\n",
       " (70, (48, 150)),\n",
       " (70, (40, 48)),\n",
       " (70, (35, 47)),\n",
       " (70, (34, 47)),\n",
       " (70, (28, 40)),\n",
       " (70, (25, 192)),\n",
       " (70, (24, 192)),\n",
       " (70, (24, 46)),\n",
       " (70, (23, 28)),\n",
       " (70, (18, 35)),\n",
       " (70, (18, 22)),\n",
       " (70, (8, 24)),\n",
       " (70, (8, 10)),\n",
       " (70, (2, 47)),\n",
       " (70, (1, 22)),\n",
       " (69, (156, 178)),\n",
       " (69, (124, 147)),\n",
       " (69, (124, 145)),\n",
       " (69, (45, 150)),\n",
       " (69, (44, 45)),\n",
       " (69, (39, 47)),\n",
       " (69, (35, 37)),\n",
       " (69, (34, 43)),\n",
       " (69, (33, 46)),\n",
       " (69, (31, 46)),\n",
       " (69, (25, 33)),\n",
       " (69, (25, 31)),\n",
       " (69, (22, 43)),\n",
       " (69, (22, 23)),\n",
       " (69, (8, 156)),\n",
       " (69, (8, 28)),\n",
       " (69, (3, 45)),\n",
       " (69, (1, 28)),\n",
       " (68, (134, 137)),\n",
       " (68, (108, 125)),\n",
       " (68, (99, 108)),\n",
       " (68, (48, 64)),\n",
       " (68, (44, 48)),\n",
       " (68, (35, 184)),\n",
       " (68, (35, 85)),\n",
       " (68, (34, 46)),\n",
       " (68, (33, 156)),\n",
       " (68, (31, 156)),\n",
       " (68, (18, 28)),\n",
       " (68, (18, 24)),\n",
       " (68, (11, 35)),\n",
       " (68, (8, 64)),\n",
       " (67, (156, 192)),\n",
       " (67, (150, 156)),\n",
       " (67, (64, 150)),\n",
       " (67, (40, 156)),\n",
       " (67, (34, 180)),\n",
       " (67, (34, 48)),\n",
       " (67, (33, 64)),\n",
       " (67, (31, 64)),\n",
       " (67, (28, 37)),\n",
       " (67, (22, 64)),\n",
       " (67, (22, 44)),\n",
       " (67, (17, 28)),\n",
       " (67, (10, 34)),\n",
       " (67, (7, 184)),\n",
       " (67, (7, 37)),\n",
       " (67, (7, 17)),\n",
       " (67, (2, 150)),\n",
       " (67, (2, 10)),\n",
       " (67, (1, 35)),\n",
       " (66, (180, 192)),\n",
       " (66, (125, 127)),\n",
       " (66, (112, 134)),\n",
       " (66, (111, 147)),\n",
       " (66, (111, 145)),\n",
       " (66, (99, 127)),\n",
       " (66, (64, 180)),\n",
       " (66, (64, 156)),\n",
       " (66, (48, 192)),\n",
       " (66, (37, 156)),\n",
       " (66, (35, 80)),\n",
       " (66, (34, 37)),\n",
       " (66, (33, 180)),\n",
       " (66, (33, 150)),\n",
       " (66, (31, 180)),\n",
       " (66, (31, 150)),\n",
       " (66, (24, 37)),\n",
       " (66, (22, 150)),\n",
       " (66, (22, 39)),\n",
       " (66, (10, 33)),\n",
       " (66, (10, 31)),\n",
       " (66, (10, 18)),\n",
       " (66, (8, 46)),\n",
       " (66, (7, 192)),\n",
       " (66, (7, 147)),\n",
       " (66, (7, 145)),\n",
       " (66, (2, 192)),\n",
       " (66, (2, 180)),\n",
       " (66, (2, 64)),\n",
       " (65, (180, 184)),\n",
       " (65, (150, 184)),\n",
       " (65, (124, 146)),\n",
       " (65, (107, 125)),\n",
       " (65, (99, 107)),\n",
       " (65, (48, 180)),\n",
       " (65, (47, 48)),\n",
       " (65, (45, 192)),\n",
       " (65, (43, 46)),\n",
       " (65, (40, 45)),\n",
       " (65, (39, 46)),\n",
       " (65, (35, 178)),\n",
       " (65, (35, 50)),\n",
       " (65, (33, 34)),\n",
       " (65, (31, 34)),\n",
       " (65, (25, 85)),\n",
       " (65, (25, 50)),\n",
       " (65, (24, 39)),\n",
       " (65, (23, 156)),\n",
       " (65, (23, 37)),\n",
       " (65, (23, 35)),\n",
       " (65, (22, 40)),\n",
       " (65, (18, 156)),\n",
       " (65, (17, 46)),\n",
       " (65, (11, 28)),\n",
       " (65, (10, 48)),\n",
       " (65, (10, 25)),\n",
       " (65, (8, 34)),\n",
       " (65, (8, 33)),\n",
       " (65, (8, 31)),\n",
       " (65, (7, 111)),\n",
       " (65, (7, 23)),\n",
       " (65, (3, 34)),\n",
       " (65, (3, 28)),\n",
       " (65, (2, 184)),\n",
       " (65, (2, 34)),\n",
       " (65, (2, 33)),\n",
       " (65, (2, 31)),\n",
       " (65, (1, 156)),\n",
       " (64, (150, 192)),\n",
       " (64, (127, 147)),\n",
       " (64, (127, 145)),\n",
       " (64, (114, 137)),\n",
       " (64, (114, 124)),\n",
       " (64, (109, 137)),\n",
       " (64, (45, 184)),\n",
       " (64, (40, 184)),\n",
       " (64, (40, 44)),\n",
       " (64, (37, 47)),\n",
       " (64, (35, 39)),\n",
       " (64, (24, 147)),\n",
       " (64, (24, 146)),\n",
       " (64, (24, 145)),\n",
       " (64, (24, 124)),\n",
       " (64, (24, 85)),\n",
       " (64, (24, 50)),\n",
       " (64, (22, 37)),\n",
       " (64, (18, 34)),\n",
       " (64, (18, 25)),\n",
       " (64, (17, 45)),\n",
       " (64, (13, 35)),\n",
       " (64, (11, 22)),\n",
       " (64, (7, 137)),\n",
       " (64, (3, 22)),\n",
       " (64, (2, 50)),\n",
       " (64, (2, 43)),\n",
       " (63, (184, 192)),\n",
       " (63, (180, 188)),\n",
       " (63, (107, 146)),\n",
       " (63, (107, 109)),\n",
       " (63, (85, 156)),\n",
       " (63, (46, 156)),\n",
       " (63, (45, 127)),\n",
       " (63, (45, 85)),\n",
       " (63, (44, 156)),\n",
       " (63, (44, 150)),\n",
       " (63, (25, 110)),\n",
       " (63, (25, 80)),\n",
       " (63, (25, 43)),\n",
       " (63, (25, 37)),\n",
       " (63, (20, 45)),\n",
       " (63, (17, 35)),\n",
       " (63, (17, 22)),\n",
       " (63, (11, 45)),\n",
       " (63, (11, 24)),\n",
       " (63, (10, 47)),\n",
       " (63, (10, 46)),\n",
       " (63, (8, 25)),\n",
       " (63, (7, 39)),\n",
       " (63, (3, 35)),\n",
       " (63, (3, 10)),\n",
       " (63, (3, 8)),\n",
       " (63, (1, 33)),\n",
       " (63, (1, 31)),\n",
       " (62, (112, 125)),\n",
       " (62, (108, 137)),\n",
       " (62, (107, 114)),\n",
       " (62, (99, 112)),\n",
       " (62, (48, 85)),\n",
       " (62, (47, 156)),\n",
       " (62, (46, 47)),\n",
       " (62, (43, 48)),\n",
       " (62, (43, 47)),\n",
       " (62, (35, 188)),\n",
       " (62, (35, 137)),\n",
       " (62, (35, 127)),\n",
       " (62, (34, 150)),\n",
       " (62, (34, 64)),\n",
       " (62, (33, 48)),\n",
       " (62, (33, 47)),\n",
       " (62, (31, 48)),\n",
       " (62, (31, 47)),\n",
       " (62, (28, 39)),\n",
       " (62, (25, 64)),\n",
       " (62, (25, 46)),\n",
       " (62, (24, 125)),\n",
       " (62, (24, 111)),\n",
       " (62, (24, 110)),\n",
       " (62, (24, 108)),\n",
       " (62, (24, 99)),\n",
       " (62, (23, 34)),\n",
       " (62, (22, 184)),\n",
       " (62, (18, 46)),\n",
       " (62, (17, 24)),\n",
       " (62, (10, 180)),\n",
       " (62, (7, 125)),\n",
       " (62, (7, 99)),\n",
       " (62, (3, 43)),\n",
       " (62, (3, 33)),\n",
       " (62, (3, 31)),\n",
       " (62, (3, 7)),\n",
       " (62, (1, 34)),\n",
       " (61, (156, 184)),\n",
       " (61, (134, 147)),\n",
       " (61, (134, 146)),\n",
       " (61, (134, 145)),\n",
       " (61, (125, 139)),\n",
       " (61, (112, 147)),\n",
       " (61, (112, 145)),\n",
       " (61, (109, 134)),\n",
       " (61, (109, 112)),\n",
       " (61, (107, 147)),\n",
       " (61, (107, 145)),\n",
       " (61, (99, 139)),\n",
       " (61, (80, 156)),\n",
       " (61, (48, 184)),\n",
       " (61, (48, 50)),\n",
       " (61, (45, 178)),\n",
       " (61, (40, 47)),\n",
       " (61, (39, 48)),\n",
       " (61, (33, 43)),\n",
       " (61, (31, 43)),\n",
       " (61, (28, 85)),\n",
       " (61, (25, 188)),\n",
       " (61, (25, 178)),\n",
       " (61, (25, 39)),\n",
       " (61, (24, 188)),\n",
       " (61, (22, 111)),\n",
       " (61, (17, 47)),\n",
       " (61, (17, 43)),\n",
       " (61, (17, 33)),\n",
       " (61, (17, 31)),\n",
       " (61, (11, 156)),\n",
       " (61, (8, 47)),\n",
       " (61, (8, 39)),\n",
       " (61, (8, 18)),\n",
       " (61, (7, 146)),\n",
       " (61, (2, 85)),\n",
       " (61, (1, 24)),\n",
       " (61, (1, 7)),\n",
       " (60, (147, 180)),\n",
       " (60, (145, 180)),\n",
       " (60, (114, 139)),\n",
       " (60, (114, 134)),\n",
       " (60, (108, 114)),\n",
       " (60, (108, 112)),\n",
       " (60, (107, 134)),\n",
       " (60, (46, 48)),\n",
       " (60, (40, 180)),\n",
       " (60, (39, 45)),\n",
       " (60, (35, 78)),\n",
       " (60, (34, 40)),\n",
       " (60, (28, 192)),\n",
       " (60, (28, 178)),\n",
       " (60, (25, 147)),\n",
       " (60, (25, 146)),\n",
       " (60, (25, 145)),\n",
       " (60, (25, 112)),\n",
       " (60, (24, 178)),\n",
       " (60, (24, 127)),\n",
       " (60, (24, 118)),\n",
       " (60, (22, 192)),\n",
       " (60, (22, 127)),\n",
       " (60, (20, 47)),\n",
       " (60, (20, 35)),\n",
       " (60, (20, 28)),\n",
       " (60, (17, 39)),\n",
       " (60, (10, 150)),\n",
       " (60, (10, 43)),\n",
       " (60, (10, 17)),\n",
       " (60, (8, 180)),\n",
       " (60, (8, 43)),\n",
       " (60, (8, 17)),\n",
       " (60, (7, 127)),\n",
       " (60, (7, 124)),\n",
       " (60, (7, 85)),\n",
       " (60, (7, 13)),\n",
       " (60, (4, 35)),\n",
       " (60, (3, 25)),\n",
       " (60, (1, 25)),\n",
       " (60, (1, 8)),\n",
       " (59, (139, 147)),\n",
       " (59, (139, 145)),\n",
       " (59, (127, 146)),\n",
       " (59, (125, 180)),\n",
       " (59, (114, 118)),\n",
       " (59, (112, 124)),\n",
       " (59, (111, 146)),\n",
       " (59, (108, 109)),\n",
       " (59, (99, 180)),\n",
       " (59, (64, 85)),\n",
       " (59, (50, 156)),\n",
       " (59, (48, 80)),\n",
       " (59, (45, 137)),\n",
       " (59, (45, 108)),\n",
       " (59, (45, 71)),\n",
       " (59, (44, 184)),\n",
       " (59, (44, 64)),\n",
       " (59, (37, 48)),\n",
       " (59, (35, 196)),\n",
       " (59, (28, 184)),\n",
       " (59, (28, 127)),\n",
       " (59, (28, 108)),\n",
       " (59, (25, 185)),\n",
       " (59, (25, 114)),\n",
       " (59, (25, 111)),\n",
       " (59, (25, 109)),\n",
       " (59, (25, 90)),\n",
       " (59, (24, 137)),\n",
       " (59, (24, 109)),\n",
       " (59, (24, 93)),\n",
       " (59, (22, 108)),\n",
       " (59, (22, 85)),\n",
       " (59, (22, 80)),\n",
       " (59, (20, 22)),\n",
       " (59, (18, 37)),\n",
       " (59, (10, 178)),\n",
       " (59, (10, 40)),\n",
       " (59, (7, 11)),\n",
       " (59, (4, 33)),\n",
       " (59, (4, 31)),\n",
       " (59, (4, 7)),\n",
       " (59, (3, 47)),\n",
       " (59, (3, 46)),\n",
       " (59, (3, 24)),\n",
       " (59, (2, 80)),\n",
       " (59, (2, 11)),\n",
       " (59, (2, 8)),\n",
       " (59, (1, 23)),\n",
       " (59, (1, 18)),\n",
       " (59, (1, 10)),\n",
       " (58, (180, 196)),\n",
       " (58, (150, 188)),\n",
       " (58, (129, 147)),\n",
       " (58, (129, 146)),\n",
       " (58, (129, 145)),\n",
       " (58, (118, 147)),\n",
       " (58, (118, 146)),\n",
       " (58, (118, 145)),\n",
       " (58, (112, 118)),\n",
       " (58, (108, 147)),\n",
       " (58, (108, 145)),\n",
       " (58, (107, 137)),\n",
       " (58, (85, 180)),\n",
       " (58, (48, 188)),\n",
       " (58, (47, 150)),\n",
       " (58, (46, 180)),\n",
       " (58, (46, 64)),\n",
       " (58, (45, 125)),\n",
       " (58, (45, 99)),\n",
       " (58, (45, 50)),\n",
       " (58, (44, 180)),\n",
       " (58, (43, 44)),\n",
       " (58, (39, 43)),\n",
       " (58, (37, 46)),\n",
       " (58, (35, 185)),\n",
       " (58, (35, 125)),\n",
       " (58, (35, 99)),\n",
       " (58, (34, 44)),\n",
       " (58, (33, 40)),\n",
       " (58, (33, 39)),\n",
       " (58, (31, 40)),\n",
       " (58, (31, 39)),\n",
       " (58, (28, 80)),\n",
       " (58, (28, 78)),\n",
       " (58, (24, 112)),\n",
       " (58, (23, 33)),\n",
       " (58, (23, 31)),\n",
       " (58, (23, 24)),\n",
       " (58, (22, 147)),\n",
       " (58, (22, 145)),\n",
       " (58, (18, 43)),\n",
       " (58, (18, 40)),\n",
       " (58, (17, 34)),\n",
       " (58, (17, 25)),\n",
       " (58, (13, 156)),\n",
       " (58, (13, 28)),\n",
       " (58, (13, 24)),\n",
       " (58, (11, 48)),\n",
       " (58, (11, 34)),\n",
       " (58, (11, 25)),\n",
       " (58, (10, 37)),\n",
       " (58, (7, 114)),\n",
       " (58, (4, 45)),\n",
       " (58, (2, 46)),\n",
       " (57, (184, 188)),\n",
       " (57, (146, 184)),\n",
       " (57, (146, 180)),\n",
       " (57, (124, 137)),\n",
       " (57, (112, 146)),\n",
       " (57, (112, 137)),\n",
       " (57, (112, 114)),\n",
       " (57, (111, 180)),\n",
       " (57, (111, 137)),\n",
       " (57, (111, 125)),\n",
       " (57, (111, 114)),\n",
       " (57, (107, 108)),\n",
       " (57, (99, 111)),\n",
       " (57, (85, 192)),\n",
       " (57, (85, 150)),\n",
       " (57, (78, 156)),\n",
       " (57, (71, 156)),\n",
       " (57, (64, 192)),\n",
       " (57, (50, 150)),\n",
       " (57, (45, 196)),\n",
       " (57, (45, 78)),\n",
       " (57, (43, 180)),\n",
       " (57, (40, 150)),\n",
       " (57, (35, 146)),\n",
       " (57, (35, 110)),\n",
       " (57, (35, 93)),\n",
       " (57, (34, 192)),\n",
       " (57, (34, 178)),\n",
       " (57, (34, 111)),\n",
       " (57, (33, 80)),\n",
       " (57, (33, 37)),\n",
       " (57, (31, 80)),\n",
       " (57, (31, 37)),\n",
       " (57, (28, 188)),\n",
       " (57, (28, 50)),\n",
       " (57, (25, 127)),\n",
       " (57, (25, 125)),\n",
       " (57, (25, 99)),\n",
       " (57, (24, 119)),\n",
       " (57, (24, 90)),\n",
       " (57, (24, 78)),\n",
       " (57, (22, 178)),\n",
       " (57, (20, 25)),\n",
       " (57, (18, 180)),\n",
       " (57, (11, 180)),\n",
       " (57, (11, 46)),\n",
       " (57, (10, 85)),\n",
       " (57, (10, 44)),\n",
       " (57, (10, 23)),\n",
       " (57, (8, 150)),\n",
       " (57, (8, 48)),\n",
       " (57, (7, 108)),\n",
       " (57, (7, 50)),\n",
       " (57, (4, 28)),\n",
       " (57, (4, 24)),\n",
       " (57, (4, 22)),\n",
       " (57, (2, 178)),\n",
       " (57, (2, 18)),\n",
       " (56, (127, 156)),\n",
       " (56, (127, 134)),\n",
       " (56, (125, 156)),\n",
       " (56, (125, 129)),\n",
       " (56, (125, 128)),\n",
       " (56, (113, 125)),\n",
       " (56, (109, 118)),\n",
       " (56, (108, 180)),\n",
       " (56, (108, 146)),\n",
       " (56, (99, 156)),\n",
       " (56, (99, 129)),\n",
       " (56, (99, 128)),\n",
       " (56, (99, 113)),\n",
       " (56, (80, 192)),\n",
       " (56, (80, 150)),\n",
       " (56, (64, 184)),\n",
       " (56, (64, 178)),\n",
       " (56, (50, 85)),\n",
       " (56, (47, 64)),\n",
       " (56, (45, 185)),\n",
       " (56, (45, 147)),\n",
       " (56, (45, 145)),\n",
       " (56, (45, 111)),\n",
       " (56, (45, 80)),\n",
       " (56, (44, 47)),\n",
       " (56, (43, 156)),\n",
       " (56, (43, 150)),\n",
       " (56, (37, 180)),\n",
       " (56, (37, 150)),\n",
       " (56, (35, 147)),\n",
       " (56, (35, 145)),\n",
       " (56, (35, 124)),\n",
       " (56, (35, 111)),\n",
       " (56, (35, 108)),\n",
       " (56, (35, 88)),\n",
       " (56, (33, 44)),\n",
       " (56, (31, 44)),\n",
       " (56, (28, 111)),\n",
       " (56, (25, 124)),\n",
       " (56, (25, 88)),\n",
       " (56, (24, 185)),\n",
       " (56, (23, 46)),\n",
       " (56, (22, 125)),\n",
       " (56, (22, 99)),\n",
       " (56, (22, 71)),\n",
       " (56, (20, 24)),\n",
       " (56, (17, 156)),\n",
       " (56, (17, 48)),\n",
       " (56, (15, 18)),\n",
       " (56, (13, 45)),\n",
       " (56, (11, 33)),\n",
       " (56, (11, 31)),\n",
       " (56, (10, 192)),\n",
       " (56, (10, 11)),\n",
       " (56, (8, 11)),\n",
       " (56, (7, 93)),\n",
       " (56, (7, 80)),\n",
       " (56, (7, 20)),\n",
       " (56, (5, 45)),\n",
       " (56, (4, 34)),\n",
       " (56, (3, 18)),\n",
       " (56, (2, 39)),\n",
       " (56, (2, 37)),\n",
       " (56, (2, 20)),\n",
       " (56, (2, 3)),\n",
       " (56, (1, 37)),\n",
       " (56, (1, 2)),\n",
       " (55, (188, 192)),\n",
       " (55, (178, 180)),\n",
       " (55, (137, 180)),\n",
       " (55, (137, 139)),\n",
       " (55, (127, 180)),\n",
       " (55, (124, 125)),\n",
       " (55, (118, 137)),\n",
       " (55, (118, 125)),\n",
       " (55, (118, 124)),\n",
       " (55, (115, 125)),\n",
       " (55, (114, 184)),\n",
       " (55, (114, 127)),\n",
       " (55, (111, 184)),\n",
       " (55, (109, 111)),\n",
       " (55, (107, 139)),\n",
       " (55, (99, 124)),\n",
       " (55, (99, 118)),\n",
       " (55, (99, 115)),\n",
       " (55, (93, 150)),\n",
       " (55, (90, 156)),\n",
       " (55, (64, 80)),\n",
       " (55, (60, 192)),\n",
       " (55, (48, 71)),\n",
       " (55, (45, 188)),\n",
       " (55, (45, 124)),\n",
       " (55, (45, 112)),\n",
       " (55, (44, 192)),\n",
       " (55, (40, 192)),\n",
       " (55, (40, 50)),\n",
       " (55, (40, 43)),\n",
       " (55, (39, 64)),\n",
       " (55, (37, 178)),\n",
       " (55, (37, 64)),\n",
       " (55, (37, 43)),\n",
       " (55, (35, 90)),\n",
       " (55, (35, 71)),\n",
       " (55, (35, 60)),\n",
       " (55, (34, 147)),\n",
       " (55, (34, 145)),\n",
       " (55, (34, 125)),\n",
       " (55, (34, 99)),\n",
       " (55, (34, 85)),\n",
       " (55, (33, 127)),\n",
       " (55, (33, 85)),\n",
       " (55, (31, 127)),\n",
       " (55, (31, 85)),\n",
       " (55, (25, 119)),\n",
       " (55, (25, 108)),\n",
       " (55, (25, 93)),\n",
       " (55, (24, 196)),\n",
       " (55, (24, 114)),\n",
       " (55, (24, 100)),\n",
       " (55, (24, 80)),\n",
       " (55, (23, 64)),\n",
       " (55, (22, 109)),\n",
       " (55, (22, 38)),\n",
       " (55, (20, 48)),\n",
       " (55, (20, 46)),\n",
       " (55, (20, 43)),\n",
       " (55, (18, 39)),\n",
       " (55, (18, 23)),\n",
       " (55, (15, 45)),\n",
       " (55, (15, 35)),\n",
       " (55, (15, 22)),\n",
       " (55, (13, 150)),\n",
       " (55, (13, 64)),\n",
       " (55, (11, 150)),\n",
       " (55, (11, 40)),\n",
       " (55, (11, 18)),\n",
       " (55, (10, 80)),\n",
       " (55, (9, 156)),\n",
       " (55, (9, 28)),\n",
       " (55, (8, 37)),\n",
       " (55, (7, 196)),\n",
       " (55, (7, 188)),\n",
       " (55, (7, 78)),\n",
       " (55, (5, 22)),\n",
       " (55, (4, 64)),\n",
       " (55, (4, 46)),\n",
       " (55, (4, 25)),\n",
       " (55, (4, 10)),\n",
       " (55, (4, 8)),\n",
       " (55, (3, 156)),\n",
       " (55, (3, 39)),\n",
       " (55, (2, 188)),\n",
       " (55, (2, 17)),\n",
       " (55, (1, 180)),\n",
       " (54, (188, 196)),\n",
       " (54, (180, 185)),\n",
       " (54, (156, 196)),\n",
       " (54, (156, 188)),\n",
       " (54, (139, 146)),\n",
       " (54, (134, 136)),\n",
       " (54, (129, 137)),\n",
       " (54, (128, 137)),\n",
       " (54, (124, 134)),\n",
       " (54, (119, 180)),\n",
       " (54, (113, 137)),\n",
       " (54, (112, 136)),\n",
       " (54, (50, 192)),\n",
       " (54, (48, 93)),\n",
       " (54, (46, 111)),\n",
       " (54, (45, 119)),\n",
       " (54, (45, 90)),\n",
       " (54, (45, 63)),\n",
       " (54, (45, 60)),\n",
       " (54, (43, 111)),\n",
       " (54, (43, 64)),\n",
       " (54, (40, 80)),\n",
       " (54, (40, 46)),\n",
       " (54, (37, 192)),\n",
       " (54, (35, 114)),\n",
       " (54, (35, 109)),\n",
       " (54, (35, 59)),\n",
       " (54, (34, 184)),\n",
       " (54, (34, 80)),\n",
       " (54, (28, 137)),\n",
       " (54, (28, 125)),\n",
       " (54, (28, 99)),\n",
       " (54, (25, 137)),\n",
       " (54, (25, 118)),\n",
       " (54, (23, 47)),\n",
       " (54, (23, 25)),\n",
       " (54, (22, 137)),\n",
       " (54, (22, 112)),\n",
       " (54, (22, 93)),\n",
       " (54, (22, 90)),\n",
       " (54, (22, 78)),\n",
       " (54, (20, 150)),\n",
       " (54, (20, 37)),\n",
       " (54, (20, 34)),\n",
       " (54, (18, 64)),\n",
       " (54, (18, 47)),\n",
       " (54, (17, 150)),\n",
       " (54, (15, 43)),\n",
       " (54, (10, 184)),\n",
       " (54, (10, 39)),\n",
       " (54, (10, 20)),\n",
       " (54, (9, 46)),\n",
       " (54, (9, 45)),\n",
       " (54, (9, 22)),\n",
       " (54, (8, 178)),\n",
       " (54, (7, 178)),\n",
       " (54, (7, 109)),\n",
       " (54, (7, 15)),\n",
       " (54, (7, 9)),\n",
       " (54, (4, 18)),\n",
       " (54, (3, 17)),\n",
       " (54, (3, 15)),\n",
       " (53, (150, 178)),\n",
       " (53, (147, 184)),\n",
       " (53, (147, 156)),\n",
       " (53, (146, 188)),\n",
       " (53, (145, 184)),\n",
       " (53, (145, 156)),\n",
       " (53, (136, 146)),\n",
       " (53, (128, 134)),\n",
       " (53, (124, 180)),\n",
       " (53, (118, 180)),\n",
       " (53, (117, 148)),\n",
       " (53, (116, 117)),\n",
       " (53, (114, 129)),\n",
       " (53, (113, 134)),\n",
       " (53, (112, 127)),\n",
       " (53, (109, 124)),\n",
       " (53, (108, 156)),\n",
       " (53, (108, 127)),\n",
       " (53, (101, 117)),\n",
       " (53, (100, 146)),\n",
       " (53, (80, 85)),\n",
       " (53, (78, 180)),\n",
       " (53, (60, 156)),\n",
       " (53, (50, 184)),\n",
       " (53, (50, 180)),\n",
       " (53, (48, 78)),\n",
       " (53, (48, 55)),\n",
       " (53, (47, 192)),\n",
       " (53, (47, 184)),\n",
       " (53, (47, 111)),\n",
       " (53, (47, 80)),\n",
       " (53, (47, 67)),\n",
       " (53, (46, 150)),\n",
       " (53, (45, 96)),\n",
       " (53, (44, 85)),\n",
       " (53, (44, 80)),\n",
       " (53, (44, 50)),\n",
       " (53, (40, 64)),\n",
       " (53, (39, 180)),\n",
       " (53, (39, 111)),\n",
       " (53, (39, 63)),\n",
       " (53, (38, 45)),\n",
       " (53, (35, 63)),\n",
       " (53, (34, 185)),\n",
       " (53, (33, 188)),\n",
       " (53, (33, 178)),\n",
       " (53, (31, 188)),\n",
       " (53, (31, 178)),\n",
       " (53, (28, 93)),\n",
       " (53, (28, 71)),\n",
       " (53, (25, 134)),\n",
       " (53, (25, 100)),\n",
       " (53, (24, 134)),\n",
       " (53, (24, 71)),\n",
       " (53, (23, 192)),\n",
       " (53, (23, 60)),\n",
       " (53, (22, 63)),\n",
       " (53, (22, 50)),\n",
       " (53, (20, 156)),\n",
       " (53, (20, 40)),\n",
       " (53, (18, 48)),\n",
       " (53, (17, 64)),\n",
       " (53, (15, 37)),\n",
       " (53, (15, 34)),\n",
       " (53, (15, 25)),\n",
       " (53, (15, 24)),\n",
       " (53, (14, 45)),\n",
       " (53, (11, 44)),\n",
       " (53, (10, 127)),\n",
       " (53, (10, 13)),\n",
       " (53, (9, 10)),\n",
       " (53, (8, 44)),\n",
       " (53, (8, 40)),\n",
       " (53, (8, 23)),\n",
       " (53, (8, 9)),\n",
       " (53, (7, 118)),\n",
       " (53, (7, 90)),\n",
       " (53, (7, 71)),\n",
       " (53, (5, 34)),\n",
       " (53, (4, 156)),\n",
       " (53, (4, 43)),\n",
       " (53, (4, 15)),\n",
       " (53, (1, 64)),\n",
       " (53, (1, 48)),\n",
       " (53, (1, 46)),\n",
       " (53, (1, 11)),\n",
       " (52, (184, 185)),\n",
       " (52, (167, 184)),\n",
       " (52, (141, 146)),\n",
       " (52, (137, 156)),\n",
       " (52, (136, 147)),\n",
       " (52, (136, 145)),\n",
       " (52, (134, 156)),\n",
       " (52, (124, 127)),\n",
       " (52, (119, 156)),\n",
       " (52, (114, 136)),\n",
       " (52, (111, 156)),\n",
       " (52, (111, 112)),\n",
       " (52, (110, 184)),\n",
       " (52, (110, 112)),\n",
       " (52, (108, 111)),\n",
       " (52, (107, 127)),\n",
       " (52, (100, 114)),\n",
       " (52, (93, 156)),\n",
       " (52, (88, 180)),\n",
       " (52, (85, 184)),\n",
       " (52, (80, 180)),\n",
       " (52, (64, 196)),\n",
       " (52, (60, 64)),\n",
       " (52, (45, 146)),\n",
       " (52, (45, 93)),\n",
       " (52, (43, 192)),\n",
       " (52, (39, 156)),\n",
       " (52, (39, 150)),\n",
       " (52, (39, 44)),\n",
       " (52, (38, 46)),\n",
       " (52, (37, 39)),\n",
       " (52, (35, 169)),\n",
       " (52, (35, 167)),\n",
       " (52, (35, 129)),\n",
       " (52, (35, 119)),\n",
       " (52, (35, 112)),\n",
       " (52, (35, 55)),\n",
       " (52, (34, 146)),\n",
       " (52, (34, 127)),\n",
       " (52, (34, 108)),\n",
       " (52, (34, 71)),\n",
       " (52, (34, 50)),\n",
       " (52, (33, 192)),\n",
       " (52, (33, 184)),\n",
       " (52, (33, 147)),\n",
       " (52, (33, 145)),\n",
       " (52, (33, 125)),\n",
       " (52, (33, 99)),\n",
       " (52, (33, 78)),\n",
       " (52, (31, 192)),\n",
       " (52, (31, 184)),\n",
       " (52, (31, 147)),\n",
       " (52, (31, 145)),\n",
       " (52, (31, 125)),\n",
       " (52, (31, 99)),\n",
       " (52, (31, 78)),\n",
       " ...]"
      ]
     },
     "execution_count": 97,
     "metadata": {},
     "output_type": "execute_result"
    }
   ],
   "source": [
    "topPairs(len(all_distances)/8)"
   ]
  },
  {
   "cell_type": "code",
   "execution_count": 99,
   "metadata": {
    "collapsed": true
   },
   "outputs": [],
   "source": [
    "def getTag(imageNum):\n",
    "    tag = \"\"\n",
    "    if imageNum < 51:\n",
    "        tag = \"day_concert\"\n",
    "    elif imageNum < 100:\n",
    "        tag = \"day_protest\"\n",
    "    elif imageNum < 150:\n",
    "        tag = \"night_concert\"\n",
    "    else:\n",
    "        tag = \"night_protest\"\n",
    "    return tag\n"
   ]
  },
  {
   "cell_type": "code",
   "execution_count": 101,
   "metadata": {
    "collapsed": false
   },
   "outputs": [],
   "source": [
    "with open('/downloads/kenglish/data/protest_concert/closest_images_by_norm2_distance.tab', 'w') as f:\n",
    "    for tup in topPairs(len(all_distances)/8):\n",
    "        t0 = getTag(tup[1][0])\n",
    "        t1 = getTag(tup[1][1])\n",
    "        x = 1\n",
    "        if t0 != t1:\n",
    "            x = 0\n",
    "        print >> f, '\\t'.join(map(str, [tup[1][0], tup[1][1], tup[0], t0, t1, x ]))"
   ]
  },
  {
   "cell_type": "code",
   "execution_count": 102,
   "metadata": {
    "collapsed": false
   },
   "outputs": [
    {
     "data": {
      "text/plain": [
       "197"
      ]
     },
     "execution_count": 102,
     "metadata": {},
     "output_type": "execute_result"
    }
   ],
   "source": [
    "len(files)"
   ]
  },
  {
   "cell_type": "code",
   "execution_count": 104,
   "metadata": {
    "collapsed": false
   },
   "outputs": [
    {
     "data": {
      "text/plain": [
       "19306"
      ]
     },
     "execution_count": 104,
     "metadata": {},
     "output_type": "execute_result"
    }
   ],
   "source": [
    "197*196/2"
   ]
  },
  {
   "cell_type": "code",
   "execution_count": 106,
   "metadata": {
    "collapsed": false
   },
   "outputs": [
    {
     "data": {
      "text/plain": [
       "[(256, 12),\n",
       " (255, 12),\n",
       " (254, 12),\n",
       " (253, 12),\n",
       " (252, 12),\n",
       " (251, 12),\n",
       " (250, 12),\n",
       " (249, 12),\n",
       " (248, 12),\n",
       " (247, 12),\n",
       " (246, 12),\n",
       " (245, 12),\n",
       " (244, 12),\n",
       " (243, 12),\n",
       " (242, 12),\n",
       " (241, 12),\n",
       " (240, 12),\n",
       " (239, 12),\n",
       " (238, 12),\n",
       " (237, 12),\n",
       " (236, 12),\n",
       " (235, 12),\n",
       " (234, 12),\n",
       " (233, 12),\n",
       " (232, 12),\n",
       " (231, 12),\n",
       " (230, 12),\n",
       " (229, 12),\n",
       " (228, 12),\n",
       " (227, 12),\n",
       " (226, 14),\n",
       " (225, 14),\n",
       " (224, 14),\n",
       " (223, 14),\n",
       " (222, 14),\n",
       " (221, 14),\n",
       " (220, 14),\n",
       " (219, 14),\n",
       " (218, 14),\n",
       " (217, 14),\n",
       " (216, 14),\n",
       " (215, 14),\n",
       " (214, 14),\n",
       " (213, 14),\n",
       " (212, 14),\n",
       " (211, 14),\n",
       " (210, 14),\n",
       " (209, 14),\n",
       " (208, 14),\n",
       " (207, 14),\n",
       " (206, 14),\n",
       " (205, 14),\n",
       " (204, 14),\n",
       " (203, 14),\n",
       " (202, 14),\n",
       " (201, 14),\n",
       " (200, 14),\n",
       " (199, 14),\n",
       " (198, 14),\n",
       " (197, 14),\n",
       " (196, 14),\n",
       " (195, 14),\n",
       " (194, 14),\n",
       " (193, 14),\n",
       " (192, 14),\n",
       " (191, 14),\n",
       " (190, 14),\n",
       " (189, 14),\n",
       " (188, 14),\n",
       " (187, 14),\n",
       " (186, 14),\n",
       " (185, 14),\n",
       " (184, 14),\n",
       " (183, 14),\n",
       " (182, 14),\n",
       " (181, 14),\n",
       " (180, 14),\n",
       " (179, 14),\n",
       " (178, 14),\n",
       " (177, 14),\n",
       " (176, 14),\n",
       " (175, 14),\n",
       " (174, 14),\n",
       " (173, 14),\n",
       " (172, 14),\n",
       " (171, 14),\n",
       " (170, 14),\n",
       " (169, 14),\n",
       " (168, 14),\n",
       " (167, 14),\n",
       " (166, 14),\n",
       " (165, 14),\n",
       " (164, 14),\n",
       " (163, 14),\n",
       " (162, 14),\n",
       " (161, 14),\n",
       " (160, 14),\n",
       " (159, 14),\n",
       " (158, 14),\n",
       " (157, 14),\n",
       " (156, 14),\n",
       " (155, 14),\n",
       " (154, 14),\n",
       " (153, 14),\n",
       " (152, 14),\n",
       " (151, 14),\n",
       " (150, 14),\n",
       " (149, 14),\n",
       " (148, 14),\n",
       " (147, 14),\n",
       " (146, 14),\n",
       " (145, 14),\n",
       " (144, 14),\n",
       " (143, 14),\n",
       " (142, 14),\n",
       " (141, 14),\n",
       " (140, 14),\n",
       " (139, 14),\n",
       " (138, 14),\n",
       " (137, 14),\n",
       " (136, 14),\n",
       " (135, 14),\n",
       " (134, 14),\n",
       " (133, 14),\n",
       " (132, 14),\n",
       " (131, 14),\n",
       " (130, 14),\n",
       " (129, 14),\n",
       " (128, 14),\n",
       " (127, 14),\n",
       " (126, 14),\n",
       " (125, 14),\n",
       " (124, 14),\n",
       " (123, 14),\n",
       " (122, 14),\n",
       " (121, 14),\n",
       " (120, 14),\n",
       " (119, 14),\n",
       " (118, 14),\n",
       " (117, 14),\n",
       " (116, 14),\n",
       " (115, 14),\n",
       " (114, 14),\n",
       " (113, 14),\n",
       " (112, 14),\n",
       " (111, 15),\n",
       " (110, 16),\n",
       " (109, 17),\n",
       " (108, 17),\n",
       " (107, 17),\n",
       " (106, 17),\n",
       " (105, 17),\n",
       " (104, 17),\n",
       " (103, 18),\n",
       " (102, 20),\n",
       " (101, 21),\n",
       " (100, 21),\n",
       " (99, 22),\n",
       " (98, 22),\n",
       " (97, 25),\n",
       " (96, 26),\n",
       " (95, 27),\n",
       " (94, 28),\n",
       " (93, 29),\n",
       " (92, 31),\n",
       " (91, 35),\n",
       " (90, 38),\n",
       " (89, 39),\n",
       " (88, 42),\n",
       " (87, 45),\n",
       " (86, 47),\n",
       " (85, 49),\n",
       " (84, 55),\n",
       " (83, 60),\n",
       " (82, 63),\n",
       " (81, 73),\n",
       " (80, 79),\n",
       " (79, 85),\n",
       " (78, 100),\n",
       " (77, 110),\n",
       " (76, 116),\n",
       " (75, 131),\n",
       " (74, 142),\n",
       " (73, 148),\n",
       " (72, 158),\n",
       " (71, 173),\n",
       " (70, 189),\n",
       " (69, 207),\n",
       " (68, 221),\n",
       " (67, 240),\n",
       " (66, 269),\n",
       " (65, 308),\n",
       " (64, 335),\n",
       " (63, 363),\n",
       " (62, 401),\n",
       " (61, 439),\n",
       " (60, 480),\n",
       " (59, 530),\n",
       " (58, 584),\n",
       " (57, 642),\n",
       " (56, 709),\n",
       " (55, 796),\n",
       " (54, 858),\n",
       " (53, 944),\n",
       " (52, 1044),\n",
       " (51, 1138),\n",
       " (50, 1254),\n",
       " (49, 1415),\n",
       " (48, 1566),\n",
       " (47, 1739),\n",
       " (46, 1934),\n",
       " (45, 2164),\n",
       " (44, 2417),\n",
       " (43, 2686),\n",
       " (42, 3010),\n",
       " (41, 3391),\n",
       " (40, 3768),\n",
       " (39, 4205),\n",
       " (38, 4649),\n",
       " (37, 5221),\n",
       " (36, 5727),\n",
       " (35, 6368),\n",
       " (34, 6966),\n",
       " (33, 7684),\n",
       " (32, 8437),\n",
       " (31, 9203),\n",
       " (30, 10045),\n",
       " (29, 10886),\n",
       " (28, 11742),\n",
       " (27, 12596),\n",
       " (26, 13445),\n",
       " (25, 14307),\n",
       " (24, 15120),\n",
       " (23, 15910),\n",
       " (22, 16593),\n",
       " (21, 17146),\n",
       " (20, 17702),\n",
       " (19, 18159),\n",
       " (18, 18506),\n",
       " (17, 18784),\n",
       " (16, 18968),\n",
       " (15, 19108),\n",
       " (14, 19197),\n",
       " (13, 19256),\n",
       " (12, 19288),\n",
       " (11, 19298),\n",
       " (10, 19301),\n",
       " (9, 19305),\n",
       " (8, 19306),\n",
       " (7, 19306),\n",
       " (6, 19306),\n",
       " (5, 19306),\n",
       " (4, 19306),\n",
       " (3, 19306),\n",
       " (2, 19306),\n",
       " (1, 19306)]"
      ]
     },
     "execution_count": 106,
     "metadata": {},
     "output_type": "execute_result"
    }
   ],
   "source": [
    "# find how many pairs 'match' for a given match count score\n",
    "def pairCountsByCountBySortedFraction(fraction):\n",
    "    pair_counts_by_count = []\n",
    "    top_pair_fraction_by_distance = topPairs(int(fraction * len(all_distances)))\n",
    "    for i in range(256):\n",
    "        min_score = 256 - i\n",
    "        count = 0\n",
    "        for pair in top_pair_fraction_by_distance:\n",
    "            if pair[0] < min_score:\n",
    "                break\n",
    "            count = count + 1\n",
    "        pair_counts_by_count.append((min_score, count))\n",
    "    return pair_counts_by_count\n",
    "\n",
    "pairCountsByCountBySortedFraction(1.0/8.0)"
   ]
  },
  {
   "cell_type": "code",
   "execution_count": null,
   "metadata": {
    "collapsed": true
   },
   "outputs": [],
   "source": []
  }
 ],
 "metadata": {
  "anaconda-cloud": {},
  "kernelspec": {
   "display_name": "Python [Root]",
   "language": "python",
   "name": "Python [Root]"
  },
  "language_info": {
   "codemirror_mode": {
    "name": "ipython",
    "version": 3
   },
   "file_extension": ".py",
   "mimetype": "text/x-python",
   "name": "python",
   "nbconvert_exporter": "python",
   "pygments_lexer": "ipython3",
   "version": "3.5.2"
  }
 },
 "nbformat": 4,
 "nbformat_minor": 0
}

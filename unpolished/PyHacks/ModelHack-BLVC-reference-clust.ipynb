{
 "cells": [
  {
   "cell_type": "code",
   "execution_count": 1,
   "metadata": {
    "collapsed": true
   },
   "outputs": [],
   "source": [
    "import numpy as np\n",
    "import os\n",
    "import sys\n"
   ]
  },
  {
   "cell_type": "code",
   "execution_count": 2,
   "metadata": {
    "collapsed": true
   },
   "outputs": [],
   "source": [
    "sys.path.append('/home/caffe-user/caffe/python/')\n"
   ]
  },
  {
   "cell_type": "code",
   "execution_count": 3,
   "metadata": {
    "collapsed": true
   },
   "outputs": [],
   "source": [
    "import caffe\n"
   ]
  },
  {
   "cell_type": "code",
   "execution_count": 4,
   "metadata": {
    "collapsed": true
   },
   "outputs": [],
   "source": [
    "caffe.set_mode_gpu()\n"
   ]
  },
  {
   "cell_type": "code",
   "execution_count": 5,
   "metadata": {
    "collapsed": true
   },
   "outputs": [],
   "source": [
    "import matplotlib.image as img\n",
    "import matplotlib.pyplot as plt\n",
    "%matplotlib inline\n"
   ]
  },
  {
   "cell_type": "code",
   "execution_count": 6,
   "metadata": {
    "collapsed": true
   },
   "outputs": [],
   "source": [
    "from scipy import signal"
   ]
  },
  {
   "cell_type": "code",
   "execution_count": 7,
   "metadata": {
    "collapsed": false
   },
   "outputs": [],
   "source": [
    "net = caffe.Net('/home/caffe-user/caffe/models/bvlc_reference_caffenet/deploy.prototxt', '/home/caffe-user/caffe/models/bvlc_reference_caffenet/bvlc_reference_caffenet.caffemodel', caffe.TEST)\n"
   ]
  },
  {
   "cell_type": "code",
   "execution_count": 8,
   "metadata": {
    "collapsed": true
   },
   "outputs": [],
   "source": [
    "transformer = caffe.io.Transformer({'data': net.blobs['data'].data.shape})\n"
   ]
  },
  {
   "cell_type": "code",
   "execution_count": 9,
   "metadata": {
    "collapsed": true
   },
   "outputs": [],
   "source": [
    "# This is from our current code which uses ILSVRC_2012 image set for training\n",
    "# The PlacesNet image set is different\n",
    "trans_model = np.load('/home/caffe-user/caffe/python/caffe/imagenet/ilsvrc_2012_mean.npy')\n"
   ]
  },
  {
   "cell_type": "code",
   "execution_count": 10,
   "metadata": {
    "collapsed": false
   },
   "outputs": [
    {
     "data": {
      "text/plain": [
       "array([ 104.00698793,  116.66876762,  122.67891434])"
      ]
     },
     "execution_count": 10,
     "metadata": {},
     "output_type": "execute_result"
    }
   ],
   "source": [
    "# the mean of any dataset composed of natural images should be close to [104, 117, 123].\n",
    "# My guess for greyscale is 115 ... \n",
    "trans_model.mean(1).mean(1)\n",
    "\n"
   ]
  },
  {
   "cell_type": "code",
   "execution_count": 11,
   "metadata": {
    "collapsed": true
   },
   "outputs": [],
   "source": [
    "transformer.set_transpose('data', (2, 0, 1))\n",
    "# Values from BlobProto notebook from places205CNN_mean.binaryproto\n",
    "transformer.set_mean('data', trans_model.mean(1).mean(1))\n",
    "transformer.set_raw_scale('data', 255)\n",
    "transformer.set_channel_swap('data', (2, 1, 0))\n"
   ]
  },
  {
   "cell_type": "code",
   "execution_count": 12,
   "metadata": {
    "collapsed": true
   },
   "outputs": [],
   "source": [
    "def myTestFiles():\n",
    "    file_list = []\n",
    "    with open('/downloads/kenglish/data/protest_concert/files.lst', 'r') as f:\n",
    "        for line in f:\n",
    "            fpath = line.rstrip()\n",
    "            file_list.append(fpath)\n",
    "    return file_list"
   ]
  },
  {
   "cell_type": "code",
   "execution_count": 13,
   "metadata": {
    "collapsed": false
   },
   "outputs": [],
   "source": [
    "# NOTE:  I had to delete corrupted files from the file list\n",
    "files = myTestFiles()\n",
    "net.blobs['data'].reshape(len(files), 3, 227, 227)\n",
    "i = 0\n",
    "for fpath in files:\n",
    "    net.blobs['data'].data[i] = transformer.preprocess('data', caffe.io.load_image(fpath))\n",
    "    i += 1\n"
   ]
  },
  {
   "cell_type": "code",
   "execution_count": 14,
   "metadata": {
    "collapsed": false
   },
   "outputs": [
    {
     "data": {
      "text/plain": [
       "{'prob': array([[  2.96074109e-06,   1.05774234e-05,   1.10066867e-05, ...,\n",
       "           1.86541479e-06,   9.31652976e-05,   1.10132733e-05],\n",
       "        [  2.31958765e-07,   5.96108111e-06,   8.71833799e-06, ...,\n",
       "           2.25066628e-06,   4.03781160e-05,   3.67437224e-06],\n",
       "        [  1.48275910e-06,   1.07829874e-04,   4.29514557e-06, ...,\n",
       "           1.02066115e-05,   3.94420727e-04,   5.48260141e-05],\n",
       "        ..., \n",
       "        [  7.33461434e-08,   2.29140915e-06,   8.76468278e-07, ...,\n",
       "           3.32213006e-07,   2.56489602e-05,   6.61659487e-06],\n",
       "        [  9.34105415e-08,   5.09251151e-07,   6.98679372e-08, ...,\n",
       "           4.79063829e-08,   5.71175178e-06,   7.25702932e-07],\n",
       "        [  2.46839761e-07,   1.81030136e-05,   2.67839846e-06, ...,\n",
       "           3.18771924e-07,   2.82288529e-04,   1.87977330e-05]], dtype=float32)}"
      ]
     },
     "execution_count": 14,
     "metadata": {},
     "output_type": "execute_result"
    }
   ],
   "source": [
    "net.forward()"
   ]
  },
  {
   "cell_type": "code",
   "execution_count": 15,
   "metadata": {
    "collapsed": false
   },
   "outputs": [
    {
     "data": {
      "text/plain": [
       "['data',\n",
       " 'conv1',\n",
       " 'pool1',\n",
       " 'norm1',\n",
       " 'conv2',\n",
       " 'pool2',\n",
       " 'norm2',\n",
       " 'conv3',\n",
       " 'conv4',\n",
       " 'conv5',\n",
       " 'pool5',\n",
       " 'fc6',\n",
       " 'fc7',\n",
       " 'fc8',\n",
       " 'prob']"
      ]
     },
     "execution_count": 15,
     "metadata": {},
     "output_type": "execute_result"
    }
   ],
   "source": [
    "net.blobs.keys()"
   ]
  },
  {
   "cell_type": "code",
   "execution_count": 16,
   "metadata": {
    "collapsed": false
   },
   "outputs": [
    {
     "data": {
      "text/plain": [
       "(384, 13, 13)"
      ]
     },
     "execution_count": 16,
     "metadata": {},
     "output_type": "execute_result"
    }
   ],
   "source": [
    "net.blobs['conv3'].data[0].shape"
   ]
  },
  {
   "cell_type": "code",
   "execution_count": 19,
   "metadata": {
    "collapsed": false
   },
   "outputs": [
    {
     "data": {
      "text/plain": [
       "(0.0, 275.66324)"
      ]
     },
     "execution_count": 19,
     "metadata": {},
     "output_type": "execute_result"
    }
   ],
   "source": [
    "min(net.blobs['conv3'].data[0].flatten()) , max(net.blobs['conv3'].data[0].flatten())"
   ]
  },
  {
   "cell_type": "code",
   "execution_count": 22,
   "metadata": {
    "collapsed": false
   },
   "outputs": [
    {
     "data": {
      "text/plain": [
       "183.08368"
      ]
     },
     "execution_count": 22,
     "metadata": {},
     "output_type": "execute_result"
    }
   ],
   "source": [
    "np.dot(net.blobs['conv3'].data[0].flatten()/256.0,net.blobs['conv3'].data[1].flatten()/net.blobs['conv3'].data[0].shape[0])"
   ]
  },
  {
   "cell_type": "code",
   "execution_count": 23,
   "metadata": {
    "collapsed": true
   },
   "outputs": [],
   "source": [
    "def dist(V, W, scale):\n",
    "    D = (W.flatten() - V.flatten()) / scale\n",
    "    return np.dot(D, D)/np.prod(V.shape)"
   ]
  },
  {
   "cell_type": "code",
   "execution_count": 40,
   "metadata": {
    "collapsed": true
   },
   "outputs": [],
   "source": [
    "tags = [\"day_concert\", \"day_protest\", \"night_concert\", \"night_protest\"]\n",
    "def getTag(imageNum):\n",
    "    tag = \"\"\n",
    "    if imageNum < 51:\n",
    "        tag = tags[0]\n",
    "    elif imageNum < 100:\n",
    "        tag = tags[1]\n",
    "    elif imageNum < 150:\n",
    "        tag = tags[2]\n",
    "    else:\n",
    "        tag = tags[3]\n",
    "    return tag\n"
   ]
  },
  {
   "cell_type": "code",
   "execution_count": 26,
   "metadata": {
    "collapsed": false
   },
   "outputs": [],
   "source": [
    "imageId_by_tag = {}\n",
    "for i in range(len(net.blobs['conv3'].data)):\n",
    "    tag = getTag(i)\n",
    "    if tag not in imageId_by_tag:\n",
    "        imageId_by_tag[tag] = []\n",
    "    imageId_by_tag[tag].append(i)\n",
    "    \n",
    "cluster_conv3_by_tag = {}\n",
    "for tag in imageId_by_tag:\n",
    "    cluster_conv3_by_tag[tag] = np.zeros(net.blobs['conv3'].data[0].shape)\n",
    "    for id in imageId_by_tag[tag]:\n",
    "        for feat_id in range(len(net.blobs['conv3'].data[id])):\n",
    "            cluster_conv3_by_tag[tag][feat_id] += net.blobs['conv3'].data[id][feat_id]\n",
    "        cluster_conv3_by_tag[tag][feat_id] *= (1.0/len(imageId_by_tag[tag]))"
   ]
  },
  {
   "cell_type": "code",
   "execution_count": 27,
   "metadata": {
    "collapsed": false
   },
   "outputs": [
    {
     "data": {
      "text/plain": [
       "<matplotlib.image.AxesImage at 0x7ff05154c710>"
      ]
     },
     "execution_count": 27,
     "metadata": {},
     "output_type": "execute_result"
    },
    {
     "data": {
      "image/png": "[encoded data removed]",
      "text/plain": [
       "<matplotlib.figure.Figure at 0x7ff05172f750>"
      ]
     },
     "metadata": {},
     "output_type": "display_data"
    }
   ],
   "source": [
    "plt.imshow(net.blobs['conv3'].data[0][0], cmap = plt.get_cmap('gray'))"
   ]
  },
  {
   "cell_type": "code",
   "execution_count": 28,
   "metadata": {
    "collapsed": false
   },
   "outputs": [
    {
     "data": {
      "text/plain": [
       "<matplotlib.image.AxesImage at 0x7ff05105d490>"
      ]
     },
     "execution_count": 28,
     "metadata": {},
     "output_type": "execute_result"
    },
    {
     "data": {
      "image/png": "[encoded data removed]",
      "text/plain": [
       "<matplotlib.figure.Figure at 0x7ff05139f510>"
      ]
     },
     "metadata": {},
     "output_type": "display_data"
    }
   ],
   "source": [
    "plt.imshow(cluster_conv3_by_tag['day_concert'][0], cmap = plt.get_cmap('gray'))"
   ]
  },
  {
   "cell_type": "code",
   "execution_count": 29,
   "metadata": {
    "collapsed": false
   },
   "outputs": [
    {
     "data": {
      "text/plain": [
       "<matplotlib.image.AxesImage at 0x7ff050f93e50>"
      ]
     },
     "execution_count": 29,
     "metadata": {},
     "output_type": "execute_result"
    },
    {
     "data": {
      "image/png": "[encoded data removed]",
      "text/plain": [
       "<matplotlib.figure.Figure at 0x7ff051088dd0>"
      ]
     },
     "metadata": {},
     "output_type": "display_data"
    }
   ],
   "source": [
    "plt.imshow(cluster_conv3_by_tag['day_protest'][0], cmap = plt.get_cmap('gray'))"
   ]
  },
  {
   "cell_type": "code",
   "execution_count": 41,
   "metadata": {
    "collapsed": false
   },
   "outputs": [],
   "source": [
    "tag_feature_distances = []\n",
    "feature_count = net.blobs['conv3'].data[0].shape[0]\n",
    "for t in range(len(tags)):\n",
    "    for tt in range(t+1, len(tags)):\n",
    "        tag_a = tags[t]\n",
    "        tag_b = tags[tt]\n",
    "        for i in range(feature_count):\n",
    "            d = dist(cluster_conv3_by_tag[tag_a][i], cluster_conv3_by_tag[tag_b][i], 1.0 * feature_count)\n",
    "            tag_feature_distances.append( (d, i, t, tt, tag_a, tag_b) )\n",
    "\n",
    "tag_feature_distances.sort()            "
   ]
  },
  {
   "cell_type": "code",
   "execution_count": 42,
   "metadata": {
    "collapsed": false
   },
   "outputs": [
    {
     "data": {
      "text/plain": [
       "[(12.231241755917406, 185, 0, 3, 'day_concert', 'night_protest'),\n",
       " (12.361455501946844, 256, 0, 3, 'day_concert', 'night_protest'),\n",
       " (12.811765783860936, 185, 0, 1, 'day_concert', 'day_protest'),\n",
       " (12.930531158238415, 57, 0, 3, 'day_concert', 'night_protest'),\n",
       " (13.729523453879221, 93, 1, 2, 'day_protest', 'night_concert'),\n",
       " (14.893765187109935, 93, 0, 2, 'day_concert', 'night_concert'),\n",
       " (16.852330070903314, 28, 0, 2, 'day_concert', 'night_concert'),\n",
       " (19.313331574790372, 28, 1, 2, 'day_protest', 'night_concert'),\n",
       " (25.687087864444511, 140, 1, 2, 'day_protest', 'night_concert'),\n",
       " (29.591960947651692, 140, 0, 2, 'day_concert', 'night_concert')]"
      ]
     },
     "execution_count": 42,
     "metadata": {},
     "output_type": "execute_result"
    }
   ],
   "source": [
    "tag_feature_distances[-10:]"
   ]
  },
  {
   "cell_type": "code",
   "execution_count": 44,
   "metadata": {
    "collapsed": false
   },
   "outputs": [],
   "source": [
    "with open('/downloads/kenglish/data/protest_concert/conv3_tag_distances.tab', 'w') as f:\n",
    "    for tup in tag_feature_distances:\n",
    "        print >> f, '\\t'.join(map(str, [ tup[0], tup[1], tup[2], tup[3], tup[4], tup[5] ]))"
   ]
  },
  {
   "cell_type": "code",
   "execution_count": 56,
   "metadata": {
    "collapsed": true
   },
   "outputs": [],
   "source": [
    "def imageDistances(imageId):\n",
    "    feature_distances = []\n",
    "    feature_count = net.blobs['conv3'].data[0].shape[0]\n",
    "    for t in range(len(tags)):\n",
    "        tag_a = tags[t]\n",
    "        for i in range(feature_count):\n",
    "            d = dist(cluster_conv3_by_tag[tag_a][i], net.blobs['conv3'].data[imageId][i], 1.0 * feature_count)\n",
    "            feature_distances.append( (d, t, tag_a) )\n",
    "    feature_distances.sort()\n",
    "    return feature_distances"
   ]
  },
  {
   "cell_type": "code",
   "execution_count": 57,
   "metadata": {
    "collapsed": false
   },
   "outputs": [],
   "source": [
    "image0_distances = imageDistances(0)"
   ]
  },
  {
   "cell_type": "code",
   "execution_count": 58,
   "metadata": {
    "collapsed": false
   },
   "outputs": [
    {
     "data": {
      "text/plain": [
       "[(0.00059254801933414044, 1, 'day_protest'),\n",
       " (0.00059395907413941804, 3, 'night_protest'),\n",
       " (0.00059922143498500379, 2, 'night_concert'),\n",
       " (0.00060257018909845106, 0, 'day_concert'),\n",
       " (0.0012004250882459531, 2, 'night_concert'),\n",
       " (0.0016194096272681665, 3, 'night_protest'),\n",
       " (0.0021997430874789396, 0, 'day_concert'),\n",
       " (0.006378272275170422, 2, 'night_concert'),\n",
       " (0.0097379974827564372, 0, 'day_concert'),\n",
       " (0.010383407366813703, 0, 'day_concert'),\n",
       " (0.018902199674014599, 1, 'day_protest'),\n",
       " (0.021991015944953465, 2, 'night_concert'),\n",
       " (0.032696377294384987, 1, 'day_protest'),\n",
       " (0.032838479703250989, 3, 'night_protest'),\n",
       " (0.034307604018628597, 2, 'night_concert'),\n",
       " (0.044825164346652589, 1, 'day_protest'),\n",
       " (0.048499460380880044, 1, 'day_protest'),\n",
       " (0.059309685159866399, 2, 'night_concert'),\n",
       " (0.061508443988313774, 0, 'day_concert'),\n",
       " (0.067292043662747228, 2, 'night_concert')]"
      ]
     },
     "execution_count": 58,
     "metadata": {},
     "output_type": "execute_result"
    }
   ],
   "source": [
    "image0_distances[0:20]"
   ]
  },
  {
   "cell_type": "code",
   "execution_count": 60,
   "metadata": {
    "collapsed": false
   },
   "outputs": [
    {
     "data": {
      "text/plain": [
       "[38.306011864304189,\n",
       " 37.923471485914284,\n",
       " 48.968570650248708,\n",
       " 44.392665667394446]"
      ]
     },
     "execution_count": 60,
     "metadata": {},
     "output_type": "execute_result"
    }
   ],
   "source": [
    "cluster_counts = [0.0]*4\n",
    "for i in range(384):\n",
    "    cluster_counts[image0_distances[i][1]] += image0_distances[i][0]\n",
    "cluster_counts"
   ]
  },
  {
   "cell_type": "code",
   "execution_count": 61,
   "metadata": {
    "collapsed": false
   },
   "outputs": [
    {
     "data": {
      "text/plain": [
       "[1924.5293409558089,\n",
       " 1501.9621747217507,\n",
       " 1363.6027912300174,\n",
       " 1231.6917668755646]"
      ]
     },
     "execution_count": 61,
     "metadata": {},
     "output_type": "execute_result"
    }
   ],
   "source": [
    "cluster_counts = [0.0]*4\n",
    "for i in range(len(image0_distances)):\n",
    "    cluster_counts[image0_distances[i][1]] += image0_distances[i][0]\n",
    "cluster_counts"
   ]
  },
  {
   "cell_type": "code",
   "execution_count": 63,
   "metadata": {
    "collapsed": true
   },
   "outputs": [],
   "source": [
    "image1_distances = imageDistances(1)"
   ]
  },
  {
   "cell_type": "code",
   "execution_count": 64,
   "metadata": {
    "collapsed": false
   },
   "outputs": [
    {
     "data": {
      "text/plain": [
       "[38.508944165033526,\n",
       " 37.747506851945325,\n",
       " 46.664149410081151,\n",
       " 46.807611434810639]"
      ]
     },
     "execution_count": 64,
     "metadata": {},
     "output_type": "execute_result"
    }
   ],
   "source": [
    "cluster_counts = [0.0]*4\n",
    "for i in range(384):\n",
    "    cluster_counts[image1_distances[i][1]] += image1_distances[i][0]\n",
    "cluster_counts"
   ]
  },
  {
   "cell_type": "code",
   "execution_count": null,
   "metadata": {
    "collapsed": true
   },
   "outputs": [],
   "source": []
  }
 ],
 "metadata": {
  "kernelspec": {
   "display_name": "Python 2",
   "language": "python",
   "name": "python2"
  },
  "language_info": {
   "codemirror_mode": {
    "name": "ipython",
    "version": 2
   },
   "file_extension": ".py",
   "mimetype": "text/x-python",
   "name": "python",
   "nbconvert_exporter": "python",
   "pygments_lexer": "ipython2",
   "version": "2.7.12"
  }
 },
 "nbformat": 4,
 "nbformat_minor": 0
}

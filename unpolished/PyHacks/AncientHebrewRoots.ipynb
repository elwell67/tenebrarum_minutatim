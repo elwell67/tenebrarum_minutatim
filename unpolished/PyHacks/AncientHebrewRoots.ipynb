{
 "cells": [
  {
   "cell_type": "code",
   "execution_count": 1,
   "metadata": {
    "collapsed": true
   },
   "outputs": [],
   "source": [
    "import sys\n",
    "import unicodedata"
   ]
  },
  {
   "cell_type": "code",
   "execution_count": 2,
   "metadata": {
    "collapsed": false
   },
   "outputs": [],
   "source": [
    "letters = ['א',\n",
    "'ב',\n",
    "'ג',\n",
    "'ד',\n",
    "'ה',\n",
    "'ו',\n",
    "'ז',\n",
    "'ח',\n",
    "'ט',\n",
    "'י',\n",
    "'כ',\n",
    "'ל',\n",
    "'מ',\n",
    "'נ',\n",
    "'ס',\n",
    "'ע',\n",
    "'פ',\n",
    "'צ',\n",
    "'ק',\n",
    "'ר',\n",
    "'ש',\n",
    "'ת']\n",
    "consonants = ['ב',\n",
    "'ג',\n",
    "'ד',\n",
    "'ה',  # He\n",
    "'ו',  # Vav\n",
    "'ז',\n",
    "'ח',\n",
    "'ט',\n",
    "'י',  # Yod\n",
    "'כ',\n",
    "'ל',\n",
    "'מ',\n",
    "'נ',\n",
    "'ס',\n",
    "'פ',\n",
    "'צ',\n",
    "'ק',\n",
    "'ר',\n",
    "'ש',\n",
    "'ת']\n",
    "for_vowels = ['א',\n",
    "              'י',\n",
    "              'ע']\n",
    "mid_vowels = for_vowels + ['ו']\n",
    "end_vowels = for_vowels + ['ה', 'ו' ]\n"
   ]
  },
  {
   "cell_type": "code",
   "execution_count": 5,
   "metadata": {
    "collapsed": false
   },
   "outputs": [
    {
     "name": "stdout",
     "output_type": "stream",
     "text": [
      "HEBREW LETTER BET\n",
      "HEBREW LETTER GIMEL\n",
      "HEBREW LETTER DALET\n",
      "HEBREW LETTER HE\n",
      "HEBREW LETTER VAV\n",
      "HEBREW LETTER ZAYIN\n",
      "HEBREW LETTER HET\n",
      "HEBREW LETTER TET\n",
      "HEBREW LETTER YOD\n",
      "HEBREW LETTER KAF\n",
      "HEBREW LETTER LAMED\n",
      "HEBREW LETTER MEM\n",
      "HEBREW LETTER NUN\n",
      "HEBREW LETTER SAMEKH\n",
      "HEBREW LETTER PE\n",
      "HEBREW LETTER TSADI\n",
      "HEBREW LETTER QOF\n",
      "HEBREW LETTER RESH\n",
      "HEBREW LETTER SHIN\n",
      "HEBREW LETTER TAV\n",
      "אב\n",
      "אג\n",
      "אד\n",
      "אה\n",
      "או\n",
      "אז\n",
      "אח\n",
      "אט\n",
      "אי\n",
      "אכ\n",
      "אל\n",
      "אמ\n",
      "אנ\n",
      "אס\n",
      "אפ\n",
      "אצ\n",
      "אק\n",
      "אר\n",
      "אש\n",
      "את\n",
      "יב\n",
      "יג\n",
      "יד\n",
      "יה\n",
      "יו\n",
      "יז\n",
      "יח\n",
      "יט\n",
      "יי\n",
      "יכ\n",
      "יל\n",
      "ימ\n",
      "ינ\n",
      "יס\n",
      "יפ\n",
      "יצ\n",
      "יק\n",
      "יר\n",
      "יש\n",
      "ית\n",
      "עב\n",
      "עג\n",
      "עד\n",
      "עה\n",
      "עו\n",
      "עז\n",
      "עח\n",
      "עט\n",
      "עי\n",
      "עכ\n",
      "על\n",
      "עמ\n",
      "ענ\n",
      "עס\n",
      "עפ\n",
      "עצ\n",
      "עק\n",
      "ער\n",
      "עש\n",
      "עת\n",
      "בא\n",
      "גא\n",
      "דא\n",
      "הא\n",
      "וא\n",
      "זא\n",
      "חא\n",
      "טא\n",
      "יא\n",
      "כא\n",
      "לא\n",
      "מא\n",
      "נא\n",
      "סא\n",
      "פא\n",
      "צא\n",
      "קא\n",
      "רא\n",
      "שא\n",
      "תא\n",
      "בי\n",
      "גי\n",
      "די\n",
      "הי\n",
      "וי\n",
      "זי\n",
      "חי\n",
      "טי\n",
      "יי\n",
      "כי\n",
      "לי\n",
      "מי\n",
      "ני\n",
      "סי\n",
      "פי\n",
      "צי\n",
      "קי\n",
      "רי\n",
      "שי\n",
      "תי\n",
      "בע\n",
      "גע\n",
      "דע\n",
      "הע\n",
      "וע\n",
      "זע\n",
      "חע\n",
      "טע\n",
      "יע\n",
      "כע\n",
      "לע\n",
      "מע\n",
      "נע\n",
      "סע\n",
      "פע\n",
      "צע\n",
      "קע\n",
      "רע\n",
      "שע\n",
      "תע\n",
      "בה\n",
      "גה\n",
      "דה\n",
      "הה\n",
      "וה\n",
      "זה\n",
      "חה\n",
      "טה\n",
      "יה\n",
      "כה\n",
      "לה\n",
      "מה\n",
      "נה\n",
      "סה\n",
      "פה\n",
      "צה\n",
      "קה\n",
      "רה\n",
      "שה\n",
      "תה\n",
      "בו\n",
      "גו\n",
      "דו\n",
      "הו\n",
      "וו\n",
      "זו\n",
      "חו\n",
      "טו\n",
      "יו\n",
      "כו\n",
      "לו\n",
      "מו\n",
      "נו\n",
      "סו\n",
      "פו\n",
      "צו\n",
      "קו\n",
      "רו\n",
      "שו\n",
      "תו\n"
     ]
    }
   ],
   "source": [
    "for c in consonants:\n",
    "    print(unicodedata.name(c))\n",
    "for v in for_vowels:\n",
    "    for c in consonants:\n",
    "        print(v + c)\n",
    "for v in end_vowels:\n",
    "    for c in consonants:\n",
    "        print(c + v)\n"
   ]
  },
  {
   "cell_type": "code",
   "execution_count": 14,
   "metadata": {
    "collapsed": false
   },
   "outputs": [
    {
     "name": "stdout",
     "output_type": "stream",
     "text": [
      "אב\tHEBREW LETTER BET\n",
      "אג\tHEBREW LETTER GIMEL\n",
      "אד\tHEBREW LETTER DALET\n",
      "אה\tHEBREW LETTER HE\n",
      "או\tHEBREW LETTER VAV\n",
      "אז\tHEBREW LETTER ZAYIN\n",
      "אח\tHEBREW LETTER HET\n",
      "אט\tHEBREW LETTER TET\n",
      "אי\tHEBREW LETTER YOD\n",
      "אך\tHEBREW LETTER FINAL KAF\n",
      "אכ\tHEBREW LETTER KAF\n",
      "אל\tHEBREW LETTER LAMED\n",
      "אם\tHEBREW LETTER FINAL MEM\n",
      "אמ\tHEBREW LETTER MEM\n",
      "אן\tHEBREW LETTER FINAL NUN\n",
      "אנ\tHEBREW LETTER NUN\n",
      "אס\tHEBREW LETTER SAMEKH\n",
      "אע\tHEBREW LETTER AYIN\n",
      "אף\tHEBREW LETTER FINAL PE\n",
      "אפ\tHEBREW LETTER PE\n",
      "אץ\tHEBREW LETTER FINAL TSADI\n",
      "אצ\tHEBREW LETTER TSADI\n",
      "אק\tHEBREW LETTER QOF\n",
      "אר\tHEBREW LETTER RESH\n",
      "אש\tHEBREW LETTER SHIN\n",
      "את\tHEBREW LETTER TAV\n"
     ]
    }
   ],
   "source": [
    "alef = 'א'\n",
    "tav = 'ת'\n",
    "for cp in range(ord(alef)+1, ord(tav)+1):\n",
    "    print(alef + chr(cp) + '\\t' + unicodedata.name(chr(cp)))"
   ]
  },
  {
   "cell_type": "code",
   "execution_count": 11,
   "metadata": {
    "collapsed": false
   },
   "outputs": [
    {
     "name": "stdout",
     "output_type": "stream",
     "text": [
      "05de HEBREW LETTER MEM\n",
      "05b7 HEBREW POINT PATAH\n",
      "05d9 HEBREW LETTER YOD\n",
      "05b4 HEBREW POINT HIRIQ\n",
      "05dd HEBREW LETTER FINAL MEM\n"
     ]
    }
   ],
   "source": [
    "water = \"מַיִם\"\n",
    "for c in water:\n",
    "    print('%04x' % ord(c), unicodedata.name(c))\n"
   ]
  },
  {
   "cell_type": "code",
   "execution_count": null,
   "metadata": {
    "collapsed": true
   },
   "outputs": [],
   "source": [
    "# Hebrew water:  seems too complicated for ancient Hebrew\n",
    "# M /a/ /ee/ M\n"
   ]
  },
  {
   "cell_type": "code",
   "execution_count": 15,
   "metadata": {
    "collapsed": false
   },
   "outputs": [
    {
     "name": "stdout",
     "output_type": "stream",
     "text": [
      "אבב\n",
      "אגג\n",
      "אדד\n",
      "אהה\n",
      "אוו\n",
      "אזז\n",
      "אחח\n",
      "אטט\n",
      "איי\n",
      "אךך\n",
      "אככ\n",
      "אלל\n",
      "אםם\n",
      "אממ\n",
      "אןן\n",
      "אננ\n",
      "אסס\n",
      "אעע\n",
      "אףף\n",
      "אפפ\n",
      "אץץ\n",
      "אצצ\n",
      "אקק\n",
      "ארר\n",
      "אשש\n",
      "אתת\n"
     ]
    }
   ],
   "source": [
    "alef = 'א'\n",
    "tav = 'ת'\n",
    "for cp in range(ord(alef)+1, ord(tav)+1):\n",
    "    print(alef + chr(cp) + chr(cp))"
   ]
  },
  {
   "cell_type": "code",
   "execution_count": 16,
   "metadata": {
    "collapsed": false
   },
   "outputs": [
    {
     "name": "stdout",
     "output_type": "stream",
     "text": [
      "05d1 HEBREW LETTER BET\n",
      "05bc HEBREW POINT DAGESH OR MAPIQ\n",
      "05b5 HEBREW POINT TSERE\n",
      "05df HEBREW LETTER FINAL NUN\n"
     ]
    }
   ],
   "source": [
    "son = 'בֵּן'\n",
    "for c in son:\n",
    "    print('%04x' % ord(c), unicodedata.name(c))"
   ]
  },
  {
   "cell_type": "code",
   "execution_count": 18,
   "metadata": {
    "collapsed": false
   },
   "outputs": [
    {
     "name": "stdout",
     "output_type": "stream",
     "text": [
      "05d1 HEBREW LETTER BET\n",
      "05bc HEBREW POINT DAGESH OR MAPIQ\n",
      "05b7 HEBREW POINT PATAH\n",
      "05ea HEBREW LETTER TAV\n"
     ]
    }
   ],
   "source": [
    "daughter = 'בַּת'\n",
    "for c in daughter:\n",
    "    print('%04x' % ord(c), unicodedata.name(c))"
   ]
  },
  {
   "cell_type": "code",
   "execution_count": 19,
   "metadata": {
    "collapsed": false
   },
   "outputs": [
    {
     "name": "stdout",
     "output_type": "stream",
     "text": [
      "05d0 HEBREW LETTER ALEF\n",
      "05e9 HEBREW LETTER SHIN\n",
      "05d4 HEBREW LETTER HE\n"
     ]
    }
   ],
   "source": [
    "wife = 'אשה'\n",
    "for c in wife:\n",
    "    print('%04x' % ord(c), unicodedata.name(c))"
   ]
  },
  {
   "cell_type": "code",
   "execution_count": 20,
   "metadata": {
    "collapsed": false
   },
   "outputs": [
    {
     "name": "stdout",
     "output_type": "stream",
     "text": [
      "05d0 HEBREW LETTER ALEF\n",
      "05b4 HEBREW POINT HIRIQ\n",
      "05de HEBREW LETTER MEM\n",
      "05b8 HEBREW POINT QAMATS\n",
      "05d0 HEBREW LETTER ALEF\n"
     ]
    }
   ],
   "source": [
    "mother = 'אִמָא'\n",
    "for c in mother:\n",
    "    print('%04x' % ord(c), unicodedata.name(c))"
   ]
  },
  {
   "cell_type": "code",
   "execution_count": null,
   "metadata": {
    "collapsed": true
   },
   "outputs": [],
   "source": [
    "# A+B = Father, source\n",
    "# B+N = Son, issue\n",
    "# B+T = Daughter, hidden\n",
    "# A+Shn+He = Wife, woman'\n",
    "# 'Ah MahQuA' = Mother"
   ]
  },
  {
   "cell_type": "code",
   "execution_count": 21,
   "metadata": {
    "collapsed": false
   },
   "outputs": [
    {
     "name": "stdout",
     "output_type": "stream",
     "text": [
      "05d9 HEBREW LETTER YOD\n",
      "05b7 HEBREW POINT PATAH\n",
      "05d7 HEBREW LETTER HET\n",
      "05b7 HEBREW POINT PATAH\n",
      "05d3 HEBREW LETTER DALET\n"
     ]
    }
   ],
   "source": [
    "together = 'יַחַד'\n",
    "# Simpler form 'יחד' also translates to 'together'  NOTE: YaHaD ... Jihad\n",
    "# Change lead vowel to Alef and get 'one' : 'אחד'\n",
    "for c in together:\n",
    "    print('%04x' % ord(c), unicodedata.name(c))"
   ]
  },
  {
   "cell_type": "code",
   "execution_count": 22,
   "metadata": {
    "collapsed": false
   },
   "outputs": [
    {
     "name": "stdout",
     "output_type": "stream",
     "text": [
      "05d0 HEBREW LETTER ALEF\n",
      "05d9 HEBREW LETTER YOD\n",
      "05e9 HEBREW LETTER SHIN\n"
     ]
    }
   ],
   "source": [
    "man = 'איש'\n",
    "for c in man:\n",
    "    print('%04x' % ord(c), unicodedata.name(c))"
   ]
  },
  {
   "cell_type": "code",
   "execution_count": 23,
   "metadata": {
    "collapsed": false
   },
   "outputs": [
    {
     "name": "stdout",
     "output_type": "stream",
     "text": [
      "05d0 HEBREW LETTER ALEF\n",
      "05b4 HEBREW POINT HIRIQ\n",
      "05e9 HEBREW LETTER SHIN\n",
      "05c1 HEBREW POINT SHIN DOT\n",
      "05b8 HEBREW POINT QAMATS\n",
      "05d4 HEBREW LETTER HE\n"
     ]
    }
   ],
   "source": [
    "woman = 'אִשָׁה'\n",
    "for c in woman:\n",
    "    print('%04x' % ord(c), unicodedata.name(c))"
   ]
  },
  {
   "cell_type": "code",
   "execution_count": null,
   "metadata": {
    "collapsed": true
   },
   "outputs": [],
   "source": [
    "# man:     a ee shn\n",
    "# woman:   a shn he"
   ]
  }
 ],
 "metadata": {
  "kernelspec": {
   "display_name": "Python [Root]",
   "language": "python",
   "name": "Python [Root]"
  },
  "language_info": {
   "codemirror_mode": {
    "name": "ipython",
    "version": 3
   },
   "file_extension": ".py",
   "mimetype": "text/x-python",
   "name": "python",
   "nbconvert_exporter": "python",
   "pygments_lexer": "ipython3",
   "version": "3.5.2"
  }
 },
 "nbformat": 4,
 "nbformat_minor": 0
}
